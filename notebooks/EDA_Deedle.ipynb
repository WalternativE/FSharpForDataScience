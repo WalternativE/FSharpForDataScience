{
 "cells": [
  {
   "cell_type": "markdown",
   "metadata": {},
   "source": [
    "# Exploratory Data Analysis wiht Deedle\r\n",
    "\r\n",
    "This notebook tries to investigate the EDA capabilities of Deedle in **Dotnet Interactive Notebooks**. The different tasks are mainly inspired by the R community's [ModernDive Book](https://moderndive.com/index.html)."
   ]
  },
  {
   "cell_type": "markdown",
   "metadata": {},
   "source": [
    "## Load Nuget Dependencies\r\n",
    "\r\n",
    "The main dependency for this task is [Deedle](https://fslab.org/Deedle/) - .NET OSS implementation of the data frame concept known from the R programming languages and `pandas`.\r\n",
    "In .NET notebooks you can load external dependencies directly from nuget."
   ]
  },
  {
   "cell_type": "code",
   "execution_count": 1,
   "metadata": {},
   "source": [
    "#!fsharp\r\n",
    "#r \"nuget: Deedle\""
   ],
   "outputs": [
    {
     "output_type": "execute_result",
     "data": {
      "text/plain": "Installed package Deedle version 2.3.0"
     },
     "execution_count": 1,
     "metadata": {}
    }
   ]
  },
  {
   "cell_type": "markdown",
   "metadata": {},
   "source": [
    "## Deedle Formatter\r\n",
    "\r\n",
    "In order to better inspect the content of the data frames and serieses (roughly translated: columns in a data frame) we need to format them correctly. The following code combines the implementations for [a similar\r\n",
    "Formatter using Microsoft's DataFrama](https://github.com/dotnet/interactive/blob/main/samples/notebooks/fsharp/Samples/HousingML.ipynb) and [IFSharp's Deedle formatter](https://github.com/mndrake/IfSharpLab/blob/master/src/DeedleFormat.fs).\r\n",
    "\r\n",
    "\r\n",
    "**TODO**\r\n",
    "- Externalize this formatter using the [Dotnet Interactive Extensions Mechanism](https://github.com/dotnet/interactive/blob/main/docs/extending-dotnet-interactive.md)"
   ]
  },
  {
   "cell_type": "code",
   "execution_count": 1,
   "metadata": {},
   "source": [
    "#!fsharp\r\n",
    "module FrameFormatter =\r\n",
    "\r\n",
    "    open Deedle\r\n",
    "    open Deedle.Internal\r\n",
    "    open Html\r\n",
    "\r\n",
    "    let maxRows = 25\r\n",
    "\r\n",
    "    let (|SeriesValues|_|) (value : obj) = \r\n",
    "        let iser = value.GetType().GetInterface(\"ISeries`1\")\r\n",
    "        if iser <> null then \r\n",
    "            let keys = \r\n",
    "                value.GetType().GetProperty(\"Keys\").GetValue(value) :?> System.Collections.IEnumerable\r\n",
    "            let vector = value.GetType().GetProperty(\"Vector\").GetValue(value) :?> IVector\r\n",
    "            Some(Seq.zip (Seq.cast<obj> keys) vector.ObjectSequence)\r\n",
    "        else None\r\n",
    "\r\n",
    "    // TODO: make this configurable for floats and such\r\n",
    "    let formatValue (def: string) = function\r\n",
    "        | Some v -> v.ToString()\r\n",
    "        | None -> def\r\n",
    "\r\n",
    "    Formatter.Register<IFsiFormattable>(Func<FormatContext, IFsiFormattable, TextWriter, bool>(fun (context: FormatContext) (formattable: IFsiFormattable) (writer: TextWriter) ->\r\n",
    "        if context.ContentThreshold < 1.0 then false else\r\n",
    "\r\n",
    "        context.ReduceContent(0.2)\r\n",
    "        |> ignore\r\n",
    "\r\n",
    "        let html = \r\n",
    "            match formattable with\r\n",
    "            | SeriesValues s ->\r\n",
    "                table [] [\r\n",
    "                    thead [] [\r\n",
    "                        thead [] [\r\n",
    "                            th [] [ str \"Keys\" ]\r\n",
    "                            yield! s\r\n",
    "                            |> Seq.map (fun kvp -> th [] [ str (fst kvp |> string) ])\r\n",
    "                        ]\r\n",
    "                    ]\r\n",
    "                    tbody [] [\r\n",
    "                        td [] [ str \"Values\" ]\r\n",
    "                        yield! s\r\n",
    "                        |> Seq.map (fun kvp -> td [] [ str (snd kvp |> string) ])\r\n",
    "                    ]\r\n",
    "                ]\r\n",
    "                |> Some\r\n",
    "            | :? IFrame as df ->\r\n",
    "                {\r\n",
    "                    new IFrameOperation<_> with\r\n",
    "                        member x.Invoke(df: Frame<_, _>) =\r\n",
    "                            table [] [\r\n",
    "                                thead [] [\r\n",
    "                                    th [] [ str \"Index\" ]\r\n",
    "                                    yield! df.ColumnKeys\r\n",
    "                                    |> Seq.map (fun ck -> th [] [ str (ck.ToString()) ])\r\n",
    "                                ]\r\n",
    "                                tbody [] [\r\n",
    "                                    yield! df\r\n",
    "                                    |> Frame.take (min maxRows df.RowCount)\r\n",
    "                                    |> Frame.rows\r\n",
    "                                    |> Series.observationsAll\r\n",
    "                                    |> Seq.map (fun item ->\r\n",
    "                                        let def, k, data =\r\n",
    "                                            match item with\r\n",
    "                                            | k, Some d -> \"N/A\", k.ToString(), Series.observationsAll d |> Seq.map snd\r\n",
    "                                            | k, _ -> \"N/A\", k.ToString(), df.ColumnKeys |> Seq.map (fun _ -> None)\r\n",
    "                                        let row =\r\n",
    "                                            data\r\n",
    "                                            |> Seq.map (formatValue def)\r\n",
    "                                            |> Seq.map (fun v ->\r\n",
    "                                                td [] [ embed context v ])\r\n",
    "                                        tr [] [\r\n",
    "                                            td [] [ embed context k ]\r\n",
    "                                            yield! row\r\n",
    "                                        ])\r\n",
    "                                ]\r\n",
    "                            ]\r\n",
    "                            |> Some\r\n",
    "                }\r\n",
    "                |> df.Apply\r\n",
    "            | _ -> None\r\n",
    "\r\n",
    "        match html with\r\n",
    "        | Some v -> writer.Write v\r\n",
    "        | None -> writer.Write \"\"\r\n",
    "\r\n",
    "        true\r\n",
    "    ), mimeType = \"text/html\")"
   ],
   "outputs": []
  },
  {
   "cell_type": "code",
   "execution_count": 1,
   "metadata": {},
   "source": [
    "#!fsharp\r\n",
    "open Deedle"
   ],
   "outputs": []
  },
  {
   "cell_type": "code",
   "execution_count": 1,
   "metadata": {},
   "source": [
    "#!fsharp\r\n",
    "let flights = Frame.ReadCsv \"/home/gregor/source/repos/FSharpForDataScience/datasets/nycflights13/flights.csv\""
   ],
   "outputs": []
  },
  {
   "cell_type": "code",
   "execution_count": 1,
   "metadata": {},
   "source": [
    "#!fsharp\r\n",
    "flights"
   ],
   "outputs": [
    {
     "output_type": "execute_result",
     "data": {
      "text/html": "<table><thead><th>Index</th><th>year</th><th>month</th><th>day</th><th>dep_time</th><th>sched_dep_time</th><th>dep_delay</th><th>arr_time</th><th>sched_arr_time</th><th>arr_delay</th><th>carrier</th><th>flight</th><th>tailnum</th><th>origin</th><th>dest</th><th>air_time</th><th>distance</th><th>hour</th><th>minute</th><th>time_hour</th></thead><tbody><tr><td><div class=\"dni-plaintext\">0</div></td><td><div class=\"dni-plaintext\">2013</div></td><td><div class=\"dni-plaintext\">1</div></td><td><div class=\"dni-plaintext\">1</div></td><td><div class=\"dni-plaintext\">517</div></td><td><div class=\"dni-plaintext\">515</div></td><td><div class=\"dni-plaintext\">2</div></td><td><div class=\"dni-plaintext\">830</div></td><td><div class=\"dni-plaintext\">819</div></td><td><div class=\"dni-plaintext\">11</div></td><td><div class=\"dni-plaintext\">UA</div></td><td><div class=\"dni-plaintext\">1545</div></td><td><div class=\"dni-plaintext\">N14228</div></td><td><div class=\"dni-plaintext\">EWR</div></td><td><div class=\"dni-plaintext\">IAH</div></td><td><div class=\"dni-plaintext\">227</div></td><td><div class=\"dni-plaintext\">1400</div></td><td><div class=\"dni-plaintext\">5</div></td><td><div class=\"dni-plaintext\">15</div></td><td><div class=\"dni-plaintext\">01/01/2013 05:00:00</div></td></tr><tr><td><div class=\"dni-plaintext\">1</div></td><td><div class=\"dni-plaintext\">2013</div></td><td><div class=\"dni-plaintext\">1</div></td><td><div class=\"dni-plaintext\">1</div></td><td><div class=\"dni-plaintext\">533</div></td><td><div class=\"dni-plaintext\">529</div></td><td><div class=\"dni-plaintext\">4</div></td><td><div class=\"dni-plaintext\">850</div></td><td><div class=\"dni-plaintext\">830</div></td><td><div class=\"dni-plaintext\">20</div></td><td><div class=\"dni-plaintext\">UA</div></td><td><div class=\"dni-plaintext\">1714</div></td><td><div class=\"dni-plaintext\">N24211</div></td><td><div class=\"dni-plaintext\">LGA</div></td><td><div class=\"dni-plaintext\">IAH</div></td><td><div class=\"dni-plaintext\">227</div></td><td><div class=\"dni-plaintext\">1416</div></td><td><div class=\"dni-plaintext\">5</div></td><td><div class=\"dni-plaintext\">29</div></td><td><div class=\"dni-plaintext\">01/01/2013 05:00:00</div></td></tr><tr><td><div class=\"dni-plaintext\">2</div></td><td><div class=\"dni-plaintext\">2013</div></td><td><div class=\"dni-plaintext\">1</div></td><td><div class=\"dni-plaintext\">1</div></td><td><div class=\"dni-plaintext\">542</div></td><td><div class=\"dni-plaintext\">540</div></td><td><div class=\"dni-plaintext\">2</div></td><td><div class=\"dni-plaintext\">923</div></td><td><div class=\"dni-plaintext\">850</div></td><td><div class=\"dni-plaintext\">33</div></td><td><div class=\"dni-plaintext\">AA</div></td><td><div class=\"dni-plaintext\">1141</div></td><td><div class=\"dni-plaintext\">N619AA</div></td><td><div class=\"dni-plaintext\">JFK</div></td><td><div class=\"dni-plaintext\">MIA</div></td><td><div class=\"dni-plaintext\">160</div></td><td><div class=\"dni-plaintext\">1089</div></td><td><div class=\"dni-plaintext\">5</div></td><td><div class=\"dni-plaintext\">40</div></td><td><div class=\"dni-plaintext\">01/01/2013 05:00:00</div></td></tr><tr><td><div class=\"dni-plaintext\">3</div></td><td><div class=\"dni-plaintext\">2013</div></td><td><div class=\"dni-plaintext\">1</div></td><td><div class=\"dni-plaintext\">1</div></td><td><div class=\"dni-plaintext\">544</div></td><td><div class=\"dni-plaintext\">545</div></td><td><div class=\"dni-plaintext\">-1</div></td><td><div class=\"dni-plaintext\">1004</div></td><td><div class=\"dni-plaintext\">1022</div></td><td><div class=\"dni-plaintext\">-18</div></td><td><div class=\"dni-plaintext\">B6</div></td><td><div class=\"dni-plaintext\">725</div></td><td><div class=\"dni-plaintext\">N804JB</div></td><td><div class=\"dni-plaintext\">JFK</div></td><td><div class=\"dni-plaintext\">BQN</div></td><td><div class=\"dni-plaintext\">183</div></td><td><div class=\"dni-plaintext\">1576</div></td><td><div class=\"dni-plaintext\">5</div></td><td><div class=\"dni-plaintext\">45</div></td><td><div class=\"dni-plaintext\">01/01/2013 05:00:00</div></td></tr><tr><td><div class=\"dni-plaintext\">4</div></td><td><div class=\"dni-plaintext\">2013</div></td><td><div class=\"dni-plaintext\">1</div></td><td><div class=\"dni-plaintext\">1</div></td><td><div class=\"dni-plaintext\">554</div></td><td><div class=\"dni-plaintext\">600</div></td><td><div class=\"dni-plaintext\">-6</div></td><td><div class=\"dni-plaintext\">812</div></td><td><div class=\"dni-plaintext\">837</div></td><td><div class=\"dni-plaintext\">-25</div></td><td><div class=\"dni-plaintext\">DL</div></td><td><div class=\"dni-plaintext\">461</div></td><td><div class=\"dni-plaintext\">N668DN</div></td><td><div class=\"dni-plaintext\">LGA</div></td><td><div class=\"dni-plaintext\">ATL</div></td><td><div class=\"dni-plaintext\">116</div></td><td><div class=\"dni-plaintext\">762</div></td><td><div class=\"dni-plaintext\">6</div></td><td><div class=\"dni-plaintext\">0</div></td><td><div class=\"dni-plaintext\">01/01/2013 06:00:00</div></td></tr><tr><td><div class=\"dni-plaintext\">5</div></td><td><div class=\"dni-plaintext\">2013</div></td><td><div class=\"dni-plaintext\">1</div></td><td><div class=\"dni-plaintext\">1</div></td><td><div class=\"dni-plaintext\">554</div></td><td><div class=\"dni-plaintext\">558</div></td><td><div class=\"dni-plaintext\">-4</div></td><td><div class=\"dni-plaintext\">740</div></td><td><div class=\"dni-plaintext\">728</div></td><td><div class=\"dni-plaintext\">12</div></td><td><div class=\"dni-plaintext\">UA</div></td><td><div class=\"dni-plaintext\">1696</div></td><td><div class=\"dni-plaintext\">N39463</div></td><td><div class=\"dni-plaintext\">EWR</div></td><td><div class=\"dni-plaintext\">ORD</div></td><td><div class=\"dni-plaintext\">150</div></td><td><div class=\"dni-plaintext\">719</div></td><td><div class=\"dni-plaintext\">5</div></td><td><div class=\"dni-plaintext\">58</div></td><td><div class=\"dni-plaintext\">01/01/2013 05:00:00</div></td></tr><tr><td><div class=\"dni-plaintext\">6</div></td><td><div class=\"dni-plaintext\">2013</div></td><td><div class=\"dni-plaintext\">1</div></td><td><div class=\"dni-plaintext\">1</div></td><td><div class=\"dni-plaintext\">555</div></td><td><div class=\"dni-plaintext\">600</div></td><td><div class=\"dni-plaintext\">-5</div></td><td><div class=\"dni-plaintext\">913</div></td><td><div class=\"dni-plaintext\">854</div></td><td><div class=\"dni-plaintext\">19</div></td><td><div class=\"dni-plaintext\">B6</div></td><td><div class=\"dni-plaintext\">507</div></td><td><div class=\"dni-plaintext\">N516JB</div></td><td><div class=\"dni-plaintext\">EWR</div></td><td><div class=\"dni-plaintext\">FLL</div></td><td><div class=\"dni-plaintext\">158</div></td><td><div class=\"dni-plaintext\">1065</div></td><td><div class=\"dni-plaintext\">6</div></td><td><div class=\"dni-plaintext\">0</div></td><td><div class=\"dni-plaintext\">01/01/2013 06:00:00</div></td></tr><tr><td><div class=\"dni-plaintext\">7</div></td><td><div class=\"dni-plaintext\">2013</div></td><td><div class=\"dni-plaintext\">1</div></td><td><div class=\"dni-plaintext\">1</div></td><td><div class=\"dni-plaintext\">557</div></td><td><div class=\"dni-plaintext\">600</div></td><td><div class=\"dni-plaintext\">-3</div></td><td><div class=\"dni-plaintext\">709</div></td><td><div class=\"dni-plaintext\">723</div></td><td><div class=\"dni-plaintext\">-14</div></td><td><div class=\"dni-plaintext\">EV</div></td><td><div class=\"dni-plaintext\">5708</div></td><td><div class=\"dni-plaintext\">N829AS</div></td><td><div class=\"dni-plaintext\">LGA</div></td><td><div class=\"dni-plaintext\">IAD</div></td><td><div class=\"dni-plaintext\">53</div></td><td><div class=\"dni-plaintext\">229</div></td><td><div class=\"dni-plaintext\">6</div></td><td><div class=\"dni-plaintext\">0</div></td><td><div class=\"dni-plaintext\">01/01/2013 06:00:00</div></td></tr><tr><td><div class=\"dni-plaintext\">8</div></td><td><div class=\"dni-plaintext\">2013</div></td><td><div class=\"dni-plaintext\">1</div></td><td><div class=\"dni-plaintext\">1</div></td><td><div class=\"dni-plaintext\">557</div></td><td><div class=\"dni-plaintext\">600</div></td><td><div class=\"dni-plaintext\">-3</div></td><td><div class=\"dni-plaintext\">838</div></td><td><div class=\"dni-plaintext\">846</div></td><td><div class=\"dni-plaintext\">-8</div></td><td><div class=\"dni-plaintext\">B6</div></td><td><div class=\"dni-plaintext\">79</div></td><td><div class=\"dni-plaintext\">N593JB</div></td><td><div class=\"dni-plaintext\">JFK</div></td><td><div class=\"dni-plaintext\">MCO</div></td><td><div class=\"dni-plaintext\">140</div></td><td><div class=\"dni-plaintext\">944</div></td><td><div class=\"dni-plaintext\">6</div></td><td><div class=\"dni-plaintext\">0</div></td><td><div class=\"dni-plaintext\">01/01/2013 06:00:00</div></td></tr><tr><td><div class=\"dni-plaintext\">9</div></td><td><div class=\"dni-plaintext\">2013</div></td><td><div class=\"dni-plaintext\">1</div></td><td><div class=\"dni-plaintext\">1</div></td><td><div class=\"dni-plaintext\">558</div></td><td><div class=\"dni-plaintext\">600</div></td><td><div class=\"dni-plaintext\">-2</div></td><td><div class=\"dni-plaintext\">753</div></td><td><div class=\"dni-plaintext\">745</div></td><td><div class=\"dni-plaintext\">8</div></td><td><div class=\"dni-plaintext\">AA</div></td><td><div class=\"dni-plaintext\">301</div></td><td><div class=\"dni-plaintext\">N3ALAA</div></td><td><div class=\"dni-plaintext\">LGA</div></td><td><div class=\"dni-plaintext\">ORD</div></td><td><div class=\"dni-plaintext\">138</div></td><td><div class=\"dni-plaintext\">733</div></td><td><div class=\"dni-plaintext\">6</div></td><td><div class=\"dni-plaintext\">0</div></td><td><div class=\"dni-plaintext\">01/01/2013 06:00:00</div></td></tr><tr><td><div class=\"dni-plaintext\">10</div></td><td><div class=\"dni-plaintext\">2013</div></td><td><div class=\"dni-plaintext\">1</div></td><td><div class=\"dni-plaintext\">1</div></td><td><div class=\"dni-plaintext\">558</div></td><td><div class=\"dni-plaintext\">600</div></td><td><div class=\"dni-plaintext\">-2</div></td><td><div class=\"dni-plaintext\">849</div></td><td><div class=\"dni-plaintext\">851</div></td><td><div class=\"dni-plaintext\">-2</div></td><td><div class=\"dni-plaintext\">B6</div></td><td><div class=\"dni-plaintext\">49</div></td><td><div class=\"dni-plaintext\">N793JB</div></td><td><div class=\"dni-plaintext\">JFK</div></td><td><div class=\"dni-plaintext\">PBI</div></td><td><div class=\"dni-plaintext\">149</div></td><td><div class=\"dni-plaintext\">1028</div></td><td><div class=\"dni-plaintext\">6</div></td><td><div class=\"dni-plaintext\">0</div></td><td><div class=\"dni-plaintext\">01/01/2013 06:00:00</div></td></tr><tr><td><div class=\"dni-plaintext\">11</div></td><td><div class=\"dni-plaintext\">2013</div></td><td><div class=\"dni-plaintext\">1</div></td><td><div class=\"dni-plaintext\">1</div></td><td><div class=\"dni-plaintext\">558</div></td><td><div class=\"dni-plaintext\">600</div></td><td><div class=\"dni-plaintext\">-2</div></td><td><div class=\"dni-plaintext\">853</div></td><td><div class=\"dni-plaintext\">856</div></td><td><div class=\"dni-plaintext\">-3</div></td><td><div class=\"dni-plaintext\">B6</div></td><td><div class=\"dni-plaintext\">71</div></td><td><div class=\"dni-plaintext\">N657JB</div></td><td><div class=\"dni-plaintext\">JFK</div></td><td><div class=\"dni-plaintext\">TPA</div></td><td><div class=\"dni-plaintext\">158</div></td><td><div class=\"dni-plaintext\">1005</div></td><td><div class=\"dni-plaintext\">6</div></td><td><div class=\"dni-plaintext\">0</div></td><td><div class=\"dni-plaintext\">01/01/2013 06:00:00</div></td></tr><tr><td><div class=\"dni-plaintext\">12</div></td><td><div class=\"dni-plaintext\">2013</div></td><td><div class=\"dni-plaintext\">1</div></td><td><div class=\"dni-plaintext\">1</div></td><td><div class=\"dni-plaintext\">558</div></td><td><div class=\"dni-plaintext\">600</div></td><td><div class=\"dni-plaintext\">-2</div></td><td><div class=\"dni-plaintext\">924</div></td><td><div class=\"dni-plaintext\">917</div></td><td><div class=\"dni-plaintext\">7</div></td><td><div class=\"dni-plaintext\">UA</div></td><td><div class=\"dni-plaintext\">194</div></td><td><div class=\"dni-plaintext\">N29129</div></td><td><div class=\"dni-plaintext\">JFK</div></td><td><div class=\"dni-plaintext\">LAX</div></td><td><div class=\"dni-plaintext\">345</div></td><td><div class=\"dni-plaintext\">2475</div></td><td><div class=\"dni-plaintext\">6</div></td><td><div class=\"dni-plaintext\">0</div></td><td><div class=\"dni-plaintext\">01/01/2013 06:00:00</div></td></tr><tr><td><div class=\"dni-plaintext\">13</div></td><td><div class=\"dni-plaintext\">2013</div></td><td><div class=\"dni-plaintext\">1</div></td><td><div class=\"dni-plaintext\">1</div></td><td><div class=\"dni-plaintext\">558</div></td><td><div class=\"dni-plaintext\">600</div></td><td><div class=\"dni-plaintext\">-2</div></td><td><div class=\"dni-plaintext\">923</div></td><td><div class=\"dni-plaintext\">937</div></td><td><div class=\"dni-plaintext\">-14</div></td><td><div class=\"dni-plaintext\">UA</div></td><td><div class=\"dni-plaintext\">1124</div></td><td><div class=\"dni-plaintext\">N53441</div></td><td><div class=\"dni-plaintext\">EWR</div></td><td><div class=\"dni-plaintext\">SFO</div></td><td><div class=\"dni-plaintext\">361</div></td><td><div class=\"dni-plaintext\">2565</div></td><td><div class=\"dni-plaintext\">6</div></td><td><div class=\"dni-plaintext\">0</div></td><td><div class=\"dni-plaintext\">01/01/2013 06:00:00</div></td></tr><tr><td><div class=\"dni-plaintext\">14</div></td><td><div class=\"dni-plaintext\">2013</div></td><td><div class=\"dni-plaintext\">1</div></td><td><div class=\"dni-plaintext\">1</div></td><td><div class=\"dni-plaintext\">559</div></td><td><div class=\"dni-plaintext\">600</div></td><td><div class=\"dni-plaintext\">-1</div></td><td><div class=\"dni-plaintext\">941</div></td><td><div class=\"dni-plaintext\">910</div></td><td><div class=\"dni-plaintext\">31</div></td><td><div class=\"dni-plaintext\">AA</div></td><td><div class=\"dni-plaintext\">707</div></td><td><div class=\"dni-plaintext\">N3DUAA</div></td><td><div class=\"dni-plaintext\">LGA</div></td><td><div class=\"dni-plaintext\">DFW</div></td><td><div class=\"dni-plaintext\">257</div></td><td><div class=\"dni-plaintext\">1389</div></td><td><div class=\"dni-plaintext\">6</div></td><td><div class=\"dni-plaintext\">0</div></td><td><div class=\"dni-plaintext\">01/01/2013 06:00:00</div></td></tr><tr><td><div class=\"dni-plaintext\">15</div></td><td><div class=\"dni-plaintext\">2013</div></td><td><div class=\"dni-plaintext\">1</div></td><td><div class=\"dni-plaintext\">1</div></td><td><div class=\"dni-plaintext\">559</div></td><td><div class=\"dni-plaintext\">559</div></td><td><div class=\"dni-plaintext\">0</div></td><td><div class=\"dni-plaintext\">702</div></td><td><div class=\"dni-plaintext\">706</div></td><td><div class=\"dni-plaintext\">-4</div></td><td><div class=\"dni-plaintext\">B6</div></td><td><div class=\"dni-plaintext\">1806</div></td><td><div class=\"dni-plaintext\">N708JB</div></td><td><div class=\"dni-plaintext\">JFK</div></td><td><div class=\"dni-plaintext\">BOS</div></td><td><div class=\"dni-plaintext\">44</div></td><td><div class=\"dni-plaintext\">187</div></td><td><div class=\"dni-plaintext\">5</div></td><td><div class=\"dni-plaintext\">59</div></td><td><div class=\"dni-plaintext\">01/01/2013 05:00:00</div></td></tr><tr><td><div class=\"dni-plaintext\">16</div></td><td><div class=\"dni-plaintext\">2013</div></td><td><div class=\"dni-plaintext\">1</div></td><td><div class=\"dni-plaintext\">1</div></td><td><div class=\"dni-plaintext\">559</div></td><td><div class=\"dni-plaintext\">600</div></td><td><div class=\"dni-plaintext\">-1</div></td><td><div class=\"dni-plaintext\">854</div></td><td><div class=\"dni-plaintext\">902</div></td><td><div class=\"dni-plaintext\">-8</div></td><td><div class=\"dni-plaintext\">UA</div></td><td><div class=\"dni-plaintext\">1187</div></td><td><div class=\"dni-plaintext\">N76515</div></td><td><div class=\"dni-plaintext\">EWR</div></td><td><div class=\"dni-plaintext\">LAS</div></td><td><div class=\"dni-plaintext\">337</div></td><td><div class=\"dni-plaintext\">2227</div></td><td><div class=\"dni-plaintext\">6</div></td><td><div class=\"dni-plaintext\">0</div></td><td><div class=\"dni-plaintext\">01/01/2013 06:00:00</div></td></tr><tr><td><div class=\"dni-plaintext\">17</div></td><td><div class=\"dni-plaintext\">2013</div></td><td><div class=\"dni-plaintext\">1</div></td><td><div class=\"dni-plaintext\">1</div></td><td><div class=\"dni-plaintext\">600</div></td><td><div class=\"dni-plaintext\">600</div></td><td><div class=\"dni-plaintext\">0</div></td><td><div class=\"dni-plaintext\">851</div></td><td><div class=\"dni-plaintext\">858</div></td><td><div class=\"dni-plaintext\">-7</div></td><td><div class=\"dni-plaintext\">B6</div></td><td><div class=\"dni-plaintext\">371</div></td><td><div class=\"dni-plaintext\">N595JB</div></td><td><div class=\"dni-plaintext\">LGA</div></td><td><div class=\"dni-plaintext\">FLL</div></td><td><div class=\"dni-plaintext\">152</div></td><td><div class=\"dni-plaintext\">1076</div></td><td><div class=\"dni-plaintext\">6</div></td><td><div class=\"dni-plaintext\">0</div></td><td><div class=\"dni-plaintext\">01/01/2013 06:00:00</div></td></tr><tr><td><div class=\"dni-plaintext\">18</div></td><td><div class=\"dni-plaintext\">2013</div></td><td><div class=\"dni-plaintext\">1</div></td><td><div class=\"dni-plaintext\">1</div></td><td><div class=\"dni-plaintext\">600</div></td><td><div class=\"dni-plaintext\">600</div></td><td><div class=\"dni-plaintext\">0</div></td><td><div class=\"dni-plaintext\">837</div></td><td><div class=\"dni-plaintext\">825</div></td><td><div class=\"dni-plaintext\">12</div></td><td><div class=\"dni-plaintext\">MQ</div></td><td><div class=\"dni-plaintext\">4650</div></td><td><div class=\"dni-plaintext\">N542MQ</div></td><td><div class=\"dni-plaintext\">LGA</div></td><td><div class=\"dni-plaintext\">ATL</div></td><td><div class=\"dni-plaintext\">134</div></td><td><div class=\"dni-plaintext\">762</div></td><td><div class=\"dni-plaintext\">6</div></td><td><div class=\"dni-plaintext\">0</div></td><td><div class=\"dni-plaintext\">01/01/2013 06:00:00</div></td></tr><tr><td><div class=\"dni-plaintext\">19</div></td><td><div class=\"dni-plaintext\">2013</div></td><td><div class=\"dni-plaintext\">1</div></td><td><div class=\"dni-plaintext\">1</div></td><td><div class=\"dni-plaintext\">601</div></td><td><div class=\"dni-plaintext\">600</div></td><td><div class=\"dni-plaintext\">1</div></td><td><div class=\"dni-plaintext\">844</div></td><td><div class=\"dni-plaintext\">850</div></td><td><div class=\"dni-plaintext\">-6</div></td><td><div class=\"dni-plaintext\">B6</div></td><td><div class=\"dni-plaintext\">343</div></td><td><div class=\"dni-plaintext\">N644JB</div></td><td><div class=\"dni-plaintext\">EWR</div></td><td><div class=\"dni-plaintext\">PBI</div></td><td><div class=\"dni-plaintext\">147</div></td><td><div class=\"dni-plaintext\">1023</div></td><td><div class=\"dni-plaintext\">6</div></td><td><div class=\"dni-plaintext\">0</div></td><td><div class=\"dni-plaintext\">01/01/2013 06:00:00</div></td></tr><tr><td><div class=\"dni-plaintext\">20</div></td><td><div class=\"dni-plaintext\">2013</div></td><td><div class=\"dni-plaintext\">1</div></td><td><div class=\"dni-plaintext\">1</div></td><td><div class=\"dni-plaintext\">602</div></td><td><div class=\"dni-plaintext\">610</div></td><td><div class=\"dni-plaintext\">-8</div></td><td><div class=\"dni-plaintext\">812</div></td><td><div class=\"dni-plaintext\">820</div></td><td><div class=\"dni-plaintext\">-8</div></td><td><div class=\"dni-plaintext\">DL</div></td><td><div class=\"dni-plaintext\">1919</div></td><td><div class=\"dni-plaintext\">N971DL</div></td><td><div class=\"dni-plaintext\">LGA</div></td><td><div class=\"dni-plaintext\">MSP</div></td><td><div class=\"dni-plaintext\">170</div></td><td><div class=\"dni-plaintext\">1020</div></td><td><div class=\"dni-plaintext\">6</div></td><td><div class=\"dni-plaintext\">10</div></td><td><div class=\"dni-plaintext\">01/01/2013 06:00:00</div></td></tr><tr><td><div class=\"dni-plaintext\">21</div></td><td><div class=\"dni-plaintext\">2013</div></td><td><div class=\"dni-plaintext\">1</div></td><td><div class=\"dni-plaintext\">1</div></td><td><div class=\"dni-plaintext\">602</div></td><td><div class=\"dni-plaintext\">605</div></td><td><div class=\"dni-plaintext\">-3</div></td><td><div class=\"dni-plaintext\">821</div></td><td><div class=\"dni-plaintext\">805</div></td><td><div class=\"dni-plaintext\">16</div></td><td><div class=\"dni-plaintext\">MQ</div></td><td><div class=\"dni-plaintext\">4401</div></td><td><div class=\"dni-plaintext\">N730MQ</div></td><td><div class=\"dni-plaintext\">LGA</div></td><td><div class=\"dni-plaintext\">DTW</div></td><td><div class=\"dni-plaintext\">105</div></td><td><div class=\"dni-plaintext\">502</div></td><td><div class=\"dni-plaintext\">6</div></td><td><div class=\"dni-plaintext\">5</div></td><td><div class=\"dni-plaintext\">01/01/2013 06:00:00</div></td></tr><tr><td><div class=\"dni-plaintext\">22</div></td><td><div class=\"dni-plaintext\">2013</div></td><td><div class=\"dni-plaintext\">1</div></td><td><div class=\"dni-plaintext\">1</div></td><td><div class=\"dni-plaintext\">606</div></td><td><div class=\"dni-plaintext\">610</div></td><td><div class=\"dni-plaintext\">-4</div></td><td><div class=\"dni-plaintext\">858</div></td><td><div class=\"dni-plaintext\">910</div></td><td><div class=\"dni-plaintext\">-12</div></td><td><div class=\"dni-plaintext\">AA</div></td><td><div class=\"dni-plaintext\">1895</div></td><td><div class=\"dni-plaintext\">N633AA</div></td><td><div class=\"dni-plaintext\">EWR</div></td><td><div class=\"dni-plaintext\">MIA</div></td><td><div class=\"dni-plaintext\">152</div></td><td><div class=\"dni-plaintext\">1085</div></td><td><div class=\"dni-plaintext\">6</div></td><td><div class=\"dni-plaintext\">10</div></td><td><div class=\"dni-plaintext\">01/01/2013 06:00:00</div></td></tr><tr><td><div class=\"dni-plaintext\">23</div></td><td><div class=\"dni-plaintext\">2013</div></td><td><div class=\"dni-plaintext\">1</div></td><td><div class=\"dni-plaintext\">1</div></td><td><div class=\"dni-plaintext\">606</div></td><td><div class=\"dni-plaintext\">610</div></td><td><div class=\"dni-plaintext\">-4</div></td><td><div class=\"dni-plaintext\">837</div></td><td><div class=\"dni-plaintext\">845</div></td><td><div class=\"dni-plaintext\">-8</div></td><td><div class=\"dni-plaintext\">DL</div></td><td><div class=\"dni-plaintext\">1743</div></td><td><div class=\"dni-plaintext\">N3739P</div></td><td><div class=\"dni-plaintext\">JFK</div></td><td><div class=\"dni-plaintext\">ATL</div></td><td><div class=\"dni-plaintext\">128</div></td><td><div class=\"dni-plaintext\">760</div></td><td><div class=\"dni-plaintext\">6</div></td><td><div class=\"dni-plaintext\">10</div></td><td><div class=\"dni-plaintext\">01/01/2013 06:00:00</div></td></tr><tr><td><div class=\"dni-plaintext\">24</div></td><td><div class=\"dni-plaintext\">2013</div></td><td><div class=\"dni-plaintext\">1</div></td><td><div class=\"dni-plaintext\">1</div></td><td><div class=\"dni-plaintext\">607</div></td><td><div class=\"dni-plaintext\">607</div></td><td><div class=\"dni-plaintext\">0</div></td><td><div class=\"dni-plaintext\">858</div></td><td><div class=\"dni-plaintext\">915</div></td><td><div class=\"dni-plaintext\">-17</div></td><td><div class=\"dni-plaintext\">UA</div></td><td><div class=\"dni-plaintext\">1077</div></td><td><div class=\"dni-plaintext\">N53442</div></td><td><div class=\"dni-plaintext\">EWR</div></td><td><div class=\"dni-plaintext\">MIA</div></td><td><div class=\"dni-plaintext\">157</div></td><td><div class=\"dni-plaintext\">1085</div></td><td><div class=\"dni-plaintext\">6</div></td><td><div class=\"dni-plaintext\">7</div></td><td><div class=\"dni-plaintext\">01/01/2013 06:00:00</div></td></tr></tbody></table>"
     },
     "execution_count": 1,
     "metadata": {}
    }
   ]
  },
  {
   "cell_type": "code",
   "execution_count": 1,
   "metadata": {},
   "source": [
    "#!fsharp\r\n",
    "// Don't do this right now. I have to limit the column count first. Otherwise I blow up the browser/VSCode rendering a gazillion columns.\r\n",
    "//flights?dep_time"
   ],
   "outputs": []
  }
 ],
 "metadata": {
  "kernelspec": {
   "display_name": ".NET (C#)",
   "language": "C#",
   "name": ".net-csharp"
  },
  "language_info": {
   "file_extension": ".cs",
   "mimetype": "text/x-csharp",
   "name": "C#",
   "pygments_lexer": "csharp",
   "version": "8.0"
  }
 },
 "nbformat": 4,
 "nbformat_minor": 4
}