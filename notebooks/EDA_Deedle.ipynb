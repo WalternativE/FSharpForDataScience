{
 "cells": [
  {
   "cell_type": "markdown",
   "metadata": {},
   "source": [
    "# Exploratory Data Analysis wiht Deedle\r\n",
    "\r\n",
    "This notebook tries to investigate the EDA capabilities of Deedle in **Dotnet Interactive Notebooks**. The different tasks are mainly inspired by the R community's [ModernDive Book](https://moderndive.com/index.html)."
   ]
  },
  {
   "cell_type": "markdown",
   "metadata": {},
   "source": [
    "## Load Nuget Dependencies\r\n",
    "\r\n",
    "The main dependency for this task is [Deedle](https://fslab.org/Deedle/) - .NET OSS implementation of the data frame concept known from the R programming languages and `pandas`.\r\n",
    "In .NET notebooks you can load external dependencies directly from nuget."
   ]
  },
  {
   "cell_type": "code",
   "execution_count": 1,
   "metadata": {},
   "source": [
    "#!fsharp\r\n",
    "#r \"nuget: Deedle\""
   ],
   "outputs": []
  },
  {
   "cell_type": "markdown",
   "metadata": {},
   "source": [
    "## Deedle Formatter\r\n",
    "\r\n",
    "In order to better inspect the content of the data frames and serieses (roughly translated: columns in a data frame) we need to format them correctly. The following code combines the implementations for [a similar\r\n",
    "Formatter using Microsoft's DataFrama](https://github.com/dotnet/interactive/blob/main/samples/notebooks/fsharp/Samples/HousingML.ipynb) and [IFSharp's Deedle formatter](https://github.com/mndrake/IfSharpLab/blob/master/src/DeedleFormat.fs).\r\n",
    "\r\n",
    "\r\n",
    "**TODO**\r\n",
    "- Externalize this formatter using the [Dotnet Interactive Extensions Mechanism](https://github.com/dotnet/interactive/blob/main/docs/extending-dotnet-interactive.md)"
   ]
  },
  {
   "cell_type": "code",
   "execution_count": 1,
   "metadata": {},
   "source": [
    "#!fsharp\r\n",
    "module FrameFormatter =\r\n",
    "\r\n",
    "    open Deedle\r\n",
    "    open Deedle.Internal\r\n",
    "    open Html\r\n",
    "\r\n",
    "    let maxRows = 20\r\n",
    "    let maxCols = 15\r\n",
    "\r\n",
    "    let (|SeriesValues|_|) (value : obj) = \r\n",
    "        let iser = value.GetType().GetInterface(\"ISeries`1\")\r\n",
    "        if iser <> null then \r\n",
    "            let keys = \r\n",
    "                value.GetType().GetProperty(\"Keys\").GetValue(value) :?> System.Collections.IEnumerable\r\n",
    "            let vector = value.GetType().GetProperty(\"Vector\").GetValue(value) :?> IVector\r\n",
    "            Some(Seq.zip (Seq.cast<obj> keys) vector.ObjectSequence)\r\n",
    "        else None\r\n",
    "\r\n",
    "    // TODO: make this configurable for floats and such\r\n",
    "    let formatValue (def: string) = function\r\n",
    "        | Some v -> v.ToString()\r\n",
    "        | None -> def\r\n",
    "\r\n",
    "    /// Super opinionated because I know what the pattern looks like\r\n",
    "    /// Don't trust me on this\r\n",
    "    let peekAtSeriesTypes (s: ((obj * OptionalValue<obj>) seq)) =\r\n",
    "        if Seq.isEmpty s then\r\n",
    "            None\r\n",
    "        else\r\n",
    "            let (k, v) = Seq.head s\r\n",
    "            (k.GetType(), (v.ValueOrDefault.GetType()))\r\n",
    "            |> Some\r\n",
    "\r\n",
    "    Formatter.Register<IFsiFormattable>(Func<FormatContext, IFsiFormattable, TextWriter, bool>(fun (context: FormatContext) (formattable: IFsiFormattable) (writer: TextWriter) ->\r\n",
    "        if context.ContentThreshold < 1.0 then false else\r\n",
    "\r\n",
    "        context.ReduceContent(0.2)\r\n",
    "        |> ignore\r\n",
    "\r\n",
    "        let html = \r\n",
    "            match formattable with\r\n",
    "            | SeriesValues s ->\r\n",
    "                let typeInfo =\r\n",
    "                    peekAtSeriesTypes s |> function\r\n",
    "                    | None -> String.Empty\r\n",
    "                    | Some (keyType, valueType) ->\r\n",
    "                        sprintf \"Key type: %A Value type: %A\" keyType valueType\r\n",
    "\r\n",
    "                let entries = Seq.length s\r\n",
    "                let toBeShown = Seq.take (min maxCols entries) s\r\n",
    "\r\n",
    "                div [] [\r\n",
    "                    table [] [\r\n",
    "                        caption [] [ sprintf \"A series: %i values. %s\" entries typeInfo |> str ]\r\n",
    "                        thead [] [\r\n",
    "                            thead [] [\r\n",
    "                                th [] [ str \"Keys\" ]\r\n",
    "                                yield! toBeShown\r\n",
    "                                |> Seq.map (fun kvp -> th [] [ str (fst kvp |> string) ])\r\n",
    "                                if entries > maxCols then th [] [ str \"...\" ]\r\n",
    "                            ]\r\n",
    "                        ]\r\n",
    "                        tbody [] [\r\n",
    "                            td [] [ str \"Values\" ]\r\n",
    "                            yield! toBeShown\r\n",
    "                            |> Seq.map (fun kvp -> td [] [ str (snd kvp |> string) ])\r\n",
    "                            if entries > maxCols then th [] [ str \"...\" ]\r\n",
    "                        ]\r\n",
    "                    ]\r\n",
    "                ]\r\n",
    "                |> Some\r\n",
    "            | :? IFrame as df ->\r\n",
    "                {\r\n",
    "                    new IFrameOperation<_> with\r\n",
    "                        member x.Invoke(df: Frame<_, _>) =\r\n",
    "                            let keyRepresentations =\r\n",
    "                                df.ColumnKeys\r\n",
    "                                |> Seq.map string\r\n",
    "\r\n",
    "                            let typeRepresenations =\r\n",
    "                                df.ColumnTypes\r\n",
    "                                |> Seq.map string\r\n",
    "\r\n",
    "                            let keysAndTypes =\r\n",
    "                                (keyRepresentations, typeRepresenations)\r\n",
    "                                ||> Seq.zip\r\n",
    "\r\n",
    "                            let rowCount = df.RowCount\r\n",
    "                            let columnCount = keyRepresentations |> Seq.length\r\n",
    "\r\n",
    "                            let notShownRows = rowCount - maxRows |> max 0\r\n",
    "                            let notShownColumns = columnCount - maxCols |> max 0\r\n",
    "\r\n",
    "                            let rowSummary =\r\n",
    "                                if notShownRows < 1 then None else\r\n",
    "                                sprintf \"%i rows\" notShownRows |> Some\r\n",
    "\r\n",
    "                            let columnSummary =\r\n",
    "                                if notShownColumns < 1 then None else\r\n",
    "                                keysAndTypes\r\n",
    "                                |> Seq.skip maxCols\r\n",
    "                                |> Seq.map (fun (k, v) ->\r\n",
    "                                    span [ ] [\r\n",
    "                                        str \" \"\r\n",
    "                                        b [] [ str k ]\r\n",
    "                                        small [] [ sprintf \" <%s>\" v |> str ]\r\n",
    "                                        str \" \"\r\n",
    "                                    ])\r\n",
    "                                |> Some\r\n",
    "\r\n",
    "                            let summary =\r\n",
    "                                match (rowSummary, columnSummary) with\r\n",
    "                                | None, None -> None\r\n",
    "                                | Some rs, None ->\r\n",
    "                                    span [] [ sprintf \"...with %s additional rows\" rs |> str ]\r\n",
    "                                    |> Some\r\n",
    "                                | None, Some cs ->\r\n",
    "                                    span [] [\r\n",
    "                                        sprintf \"...with %i additional variables: \" notShownColumns |> str\r\n",
    "                                        br [] []\r\n",
    "                                        yield! cs\r\n",
    "                                    ]\r\n",
    "                                    |> Some\r\n",
    "                                | Some rs, Some cs ->\r\n",
    "                                    span [] [\r\n",
    "                                        sprintf \"...with %s additional rows and %i additional variables: \" rs notShownColumns |> str\r\n",
    "                                        br [] []\r\n",
    "                                        yield! cs\r\n",
    "                                    ]\r\n",
    "                                    |> Some\r\n",
    "\r\n",
    "                            div [] [\r\n",
    "                                table [] [\r\n",
    "                                    caption [] [ sprintf \"A frame: %i x %i\" rowCount columnCount |> str ]\r\n",
    "                                    thead [] [\r\n",
    "                                        tr [] [\r\n",
    "                                            th [] []\r\n",
    "                                            yield! df.ColumnKeys\r\n",
    "                                            |> Seq.take (min maxCols columnCount)\r\n",
    "                                            |> Seq.map (fun ck -> th [] [ str (ck.ToString()) ])\r\n",
    "                                            if maxCols < columnCount then th [] [ str \"...\" ]\r\n",
    "                                        ]\r\n",
    "                                        tr [] [\r\n",
    "                                            th [] []\r\n",
    "                                            yield! df.ColumnTypes\r\n",
    "                                            |> Seq.take (min maxCols columnCount)\r\n",
    "                                            |> Seq.map (fun ct -> th [] [ ct |> string |> str ])\r\n",
    "                                            if maxCols < columnCount then th [] [ str \"...\" ]\r\n",
    "                                        ]\r\n",
    "                                    ]\r\n",
    "                                    tbody [] [\r\n",
    "                                        yield! df\r\n",
    "                                        |> Frame.sliceCols (df.ColumnKeys |> Seq.take (min columnCount maxCols))\r\n",
    "                                        |> Frame.take (min maxRows rowCount)\r\n",
    "                                        |> Frame.rows\r\n",
    "                                        |> Series.observationsAll\r\n",
    "                                        |> Seq.map (fun item ->\r\n",
    "                                            let def, k, data =\r\n",
    "                                                match item with\r\n",
    "                                                | k, Some d -> \"N/A\", k.ToString(), Series.observationsAll d |> Seq.map snd\r\n",
    "                                                | k, _ -> \"N/A\", k.ToString(), df.ColumnKeys |> Seq.map (fun _ -> None)\r\n",
    "                                            let row =\r\n",
    "                                                data\r\n",
    "                                                |> Seq.map (formatValue def)\r\n",
    "                                                |> Seq.map (fun v ->\r\n",
    "                                                    td [] [ embed context v ])\r\n",
    "                                            tr [] [\r\n",
    "                                                td [] [ embed context k ]\r\n",
    "                                                yield! row\r\n",
    "                                                if columnCount > maxCols then td [] [ str \"...\" ]\r\n",
    "                                            ])\r\n",
    "                                        if rowCount > maxRows then tr [] [\r\n",
    "                                            yield! fun _ -> td [] [ str \"...\" ]\r\n",
    "                                            |> Seq.init ((min columnCount maxCols) + 2)\r\n",
    "                                        ]\r\n",
    "                                    ]\r\n",
    "                                ]\r\n",
    "                                match summary with\r\n",
    "                                | Some s ->\r\n",
    "                                    div [] [\r\n",
    "                                        p [] [ s ]\r\n",
    "                                    ]\r\n",
    "                                | None -> ()\r\n",
    "                            ]\r\n",
    "                            |> Some\r\n",
    "                }\r\n",
    "                |> df.Apply\r\n",
    "            | _ -> None\r\n",
    "\r\n",
    "        match html with\r\n",
    "        | Some v -> writer.Write v\r\n",
    "        | None -> writer.Write \"\"\r\n",
    "\r\n",
    "        true\r\n",
    "    ), mimeType = \"text/html\")"
   ],
   "outputs": []
  },
  {
   "cell_type": "code",
   "execution_count": 1,
   "metadata": {},
   "source": [
    "#!fsharp\r\n",
    "open Deedle"
   ],
   "outputs": []
  },
  {
   "cell_type": "code",
   "execution_count": 1,
   "metadata": {},
   "source": [
    "#!fsharp\r\n",
    "let flights = Frame.ReadCsv \"/home/gregor/source/repos/FSharpForDataScience/datasets/nycflights13/flights.csv\""
   ],
   "outputs": []
  },
  {
   "cell_type": "code",
   "execution_count": 1,
   "metadata": {},
   "source": [
    "#!fsharp\r\n",
    "flights"
   ],
   "outputs": [
    {
     "output_type": "execute_result",
     "data": {
      "text/html": "<div><table><caption>A frame: 336776 x 19</caption><thead><tr><th></th><th>year</th><th>month</th><th>day</th><th>dep_time</th><th>sched_dep_time</th><th>dep_delay</th><th>arr_time</th><th>sched_arr_time</th><th>arr_delay</th><th>carrier</th><th>flight</th><th>tailnum</th><th>origin</th><th>dest</th><th>air_time</th><th>...</th></tr><tr><th></th><th>System.Int32</th><th>System.Int32</th><th>System.Int32</th><th>System.Int32</th><th>System.Int32</th><th>System.Int32</th><th>System.Int32</th><th>System.Int32</th><th>System.Int32</th><th>System.String</th><th>System.Int32</th><th>System.String</th><th>System.String</th><th>System.String</th><th>System.Int32</th><th>...</th></tr></thead><tbody><tr><td><div class=\"dni-plaintext\">0</div></td><td><div class=\"dni-plaintext\">2013</div></td><td><div class=\"dni-plaintext\">1</div></td><td><div class=\"dni-plaintext\">1</div></td><td><div class=\"dni-plaintext\">517</div></td><td><div class=\"dni-plaintext\">515</div></td><td><div class=\"dni-plaintext\">2</div></td><td><div class=\"dni-plaintext\">830</div></td><td><div class=\"dni-plaintext\">819</div></td><td><div class=\"dni-plaintext\">11</div></td><td><div class=\"dni-plaintext\">UA</div></td><td><div class=\"dni-plaintext\">1545</div></td><td><div class=\"dni-plaintext\">N14228</div></td><td><div class=\"dni-plaintext\">EWR</div></td><td><div class=\"dni-plaintext\">IAH</div></td><td><div class=\"dni-plaintext\">227</div></td><td>...</td></tr><tr><td><div class=\"dni-plaintext\">1</div></td><td><div class=\"dni-plaintext\">2013</div></td><td><div class=\"dni-plaintext\">1</div></td><td><div class=\"dni-plaintext\">1</div></td><td><div class=\"dni-plaintext\">533</div></td><td><div class=\"dni-plaintext\">529</div></td><td><div class=\"dni-plaintext\">4</div></td><td><div class=\"dni-plaintext\">850</div></td><td><div class=\"dni-plaintext\">830</div></td><td><div class=\"dni-plaintext\">20</div></td><td><div class=\"dni-plaintext\">UA</div></td><td><div class=\"dni-plaintext\">1714</div></td><td><div class=\"dni-plaintext\">N24211</div></td><td><div class=\"dni-plaintext\">LGA</div></td><td><div class=\"dni-plaintext\">IAH</div></td><td><div class=\"dni-plaintext\">227</div></td><td>...</td></tr><tr><td><div class=\"dni-plaintext\">2</div></td><td><div class=\"dni-plaintext\">2013</div></td><td><div class=\"dni-plaintext\">1</div></td><td><div class=\"dni-plaintext\">1</div></td><td><div class=\"dni-plaintext\">542</div></td><td><div class=\"dni-plaintext\">540</div></td><td><div class=\"dni-plaintext\">2</div></td><td><div class=\"dni-plaintext\">923</div></td><td><div class=\"dni-plaintext\">850</div></td><td><div class=\"dni-plaintext\">33</div></td><td><div class=\"dni-plaintext\">AA</div></td><td><div class=\"dni-plaintext\">1141</div></td><td><div class=\"dni-plaintext\">N619AA</div></td><td><div class=\"dni-plaintext\">JFK</div></td><td><div class=\"dni-plaintext\">MIA</div></td><td><div class=\"dni-plaintext\">160</div></td><td>...</td></tr><tr><td><div class=\"dni-plaintext\">3</div></td><td><div class=\"dni-plaintext\">2013</div></td><td><div class=\"dni-plaintext\">1</div></td><td><div class=\"dni-plaintext\">1</div></td><td><div class=\"dni-plaintext\">544</div></td><td><div class=\"dni-plaintext\">545</div></td><td><div class=\"dni-plaintext\">-1</div></td><td><div class=\"dni-plaintext\">1004</div></td><td><div class=\"dni-plaintext\">1022</div></td><td><div class=\"dni-plaintext\">-18</div></td><td><div class=\"dni-plaintext\">B6</div></td><td><div class=\"dni-plaintext\">725</div></td><td><div class=\"dni-plaintext\">N804JB</div></td><td><div class=\"dni-plaintext\">JFK</div></td><td><div class=\"dni-plaintext\">BQN</div></td><td><div class=\"dni-plaintext\">183</div></td><td>...</td></tr><tr><td><div class=\"dni-plaintext\">4</div></td><td><div class=\"dni-plaintext\">2013</div></td><td><div class=\"dni-plaintext\">1</div></td><td><div class=\"dni-plaintext\">1</div></td><td><div class=\"dni-plaintext\">554</div></td><td><div class=\"dni-plaintext\">600</div></td><td><div class=\"dni-plaintext\">-6</div></td><td><div class=\"dni-plaintext\">812</div></td><td><div class=\"dni-plaintext\">837</div></td><td><div class=\"dni-plaintext\">-25</div></td><td><div class=\"dni-plaintext\">DL</div></td><td><div class=\"dni-plaintext\">461</div></td><td><div class=\"dni-plaintext\">N668DN</div></td><td><div class=\"dni-plaintext\">LGA</div></td><td><div class=\"dni-plaintext\">ATL</div></td><td><div class=\"dni-plaintext\">116</div></td><td>...</td></tr><tr><td><div class=\"dni-plaintext\">5</div></td><td><div class=\"dni-plaintext\">2013</div></td><td><div class=\"dni-plaintext\">1</div></td><td><div class=\"dni-plaintext\">1</div></td><td><div class=\"dni-plaintext\">554</div></td><td><div class=\"dni-plaintext\">558</div></td><td><div class=\"dni-plaintext\">-4</div></td><td><div class=\"dni-plaintext\">740</div></td><td><div class=\"dni-plaintext\">728</div></td><td><div class=\"dni-plaintext\">12</div></td><td><div class=\"dni-plaintext\">UA</div></td><td><div class=\"dni-plaintext\">1696</div></td><td><div class=\"dni-plaintext\">N39463</div></td><td><div class=\"dni-plaintext\">EWR</div></td><td><div class=\"dni-plaintext\">ORD</div></td><td><div class=\"dni-plaintext\">150</div></td><td>...</td></tr><tr><td><div class=\"dni-plaintext\">6</div></td><td><div class=\"dni-plaintext\">2013</div></td><td><div class=\"dni-plaintext\">1</div></td><td><div class=\"dni-plaintext\">1</div></td><td><div class=\"dni-plaintext\">555</div></td><td><div class=\"dni-plaintext\">600</div></td><td><div class=\"dni-plaintext\">-5</div></td><td><div class=\"dni-plaintext\">913</div></td><td><div class=\"dni-plaintext\">854</div></td><td><div class=\"dni-plaintext\">19</div></td><td><div class=\"dni-plaintext\">B6</div></td><td><div class=\"dni-plaintext\">507</div></td><td><div class=\"dni-plaintext\">N516JB</div></td><td><div class=\"dni-plaintext\">EWR</div></td><td><div class=\"dni-plaintext\">FLL</div></td><td><div class=\"dni-plaintext\">158</div></td><td>...</td></tr><tr><td><div class=\"dni-plaintext\">7</div></td><td><div class=\"dni-plaintext\">2013</div></td><td><div class=\"dni-plaintext\">1</div></td><td><div class=\"dni-plaintext\">1</div></td><td><div class=\"dni-plaintext\">557</div></td><td><div class=\"dni-plaintext\">600</div></td><td><div class=\"dni-plaintext\">-3</div></td><td><div class=\"dni-plaintext\">709</div></td><td><div class=\"dni-plaintext\">723</div></td><td><div class=\"dni-plaintext\">-14</div></td><td><div class=\"dni-plaintext\">EV</div></td><td><div class=\"dni-plaintext\">5708</div></td><td><div class=\"dni-plaintext\">N829AS</div></td><td><div class=\"dni-plaintext\">LGA</div></td><td><div class=\"dni-plaintext\">IAD</div></td><td><div class=\"dni-plaintext\">53</div></td><td>...</td></tr><tr><td><div class=\"dni-plaintext\">8</div></td><td><div class=\"dni-plaintext\">2013</div></td><td><div class=\"dni-plaintext\">1</div></td><td><div class=\"dni-plaintext\">1</div></td><td><div class=\"dni-plaintext\">557</div></td><td><div class=\"dni-plaintext\">600</div></td><td><div class=\"dni-plaintext\">-3</div></td><td><div class=\"dni-plaintext\">838</div></td><td><div class=\"dni-plaintext\">846</div></td><td><div class=\"dni-plaintext\">-8</div></td><td><div class=\"dni-plaintext\">B6</div></td><td><div class=\"dni-plaintext\">79</div></td><td><div class=\"dni-plaintext\">N593JB</div></td><td><div class=\"dni-plaintext\">JFK</div></td><td><div class=\"dni-plaintext\">MCO</div></td><td><div class=\"dni-plaintext\">140</div></td><td>...</td></tr><tr><td><div class=\"dni-plaintext\">9</div></td><td><div class=\"dni-plaintext\">2013</div></td><td><div class=\"dni-plaintext\">1</div></td><td><div class=\"dni-plaintext\">1</div></td><td><div class=\"dni-plaintext\">558</div></td><td><div class=\"dni-plaintext\">600</div></td><td><div class=\"dni-plaintext\">-2</div></td><td><div class=\"dni-plaintext\">753</div></td><td><div class=\"dni-plaintext\">745</div></td><td><div class=\"dni-plaintext\">8</div></td><td><div class=\"dni-plaintext\">AA</div></td><td><div class=\"dni-plaintext\">301</div></td><td><div class=\"dni-plaintext\">N3ALAA</div></td><td><div class=\"dni-plaintext\">LGA</div></td><td><div class=\"dni-plaintext\">ORD</div></td><td><div class=\"dni-plaintext\">138</div></td><td>...</td></tr><tr><td><div class=\"dni-plaintext\">10</div></td><td><div class=\"dni-plaintext\">2013</div></td><td><div class=\"dni-plaintext\">1</div></td><td><div class=\"dni-plaintext\">1</div></td><td><div class=\"dni-plaintext\">558</div></td><td><div class=\"dni-plaintext\">600</div></td><td><div class=\"dni-plaintext\">-2</div></td><td><div class=\"dni-plaintext\">849</div></td><td><div class=\"dni-plaintext\">851</div></td><td><div class=\"dni-plaintext\">-2</div></td><td><div class=\"dni-plaintext\">B6</div></td><td><div class=\"dni-plaintext\">49</div></td><td><div class=\"dni-plaintext\">N793JB</div></td><td><div class=\"dni-plaintext\">JFK</div></td><td><div class=\"dni-plaintext\">PBI</div></td><td><div class=\"dni-plaintext\">149</div></td><td>...</td></tr><tr><td><div class=\"dni-plaintext\">11</div></td><td><div class=\"dni-plaintext\">2013</div></td><td><div class=\"dni-plaintext\">1</div></td><td><div class=\"dni-plaintext\">1</div></td><td><div class=\"dni-plaintext\">558</div></td><td><div class=\"dni-plaintext\">600</div></td><td><div class=\"dni-plaintext\">-2</div></td><td><div class=\"dni-plaintext\">853</div></td><td><div class=\"dni-plaintext\">856</div></td><td><div class=\"dni-plaintext\">-3</div></td><td><div class=\"dni-plaintext\">B6</div></td><td><div class=\"dni-plaintext\">71</div></td><td><div class=\"dni-plaintext\">N657JB</div></td><td><div class=\"dni-plaintext\">JFK</div></td><td><div class=\"dni-plaintext\">TPA</div></td><td><div class=\"dni-plaintext\">158</div></td><td>...</td></tr><tr><td><div class=\"dni-plaintext\">12</div></td><td><div class=\"dni-plaintext\">2013</div></td><td><div class=\"dni-plaintext\">1</div></td><td><div class=\"dni-plaintext\">1</div></td><td><div class=\"dni-plaintext\">558</div></td><td><div class=\"dni-plaintext\">600</div></td><td><div class=\"dni-plaintext\">-2</div></td><td><div class=\"dni-plaintext\">924</div></td><td><div class=\"dni-plaintext\">917</div></td><td><div class=\"dni-plaintext\">7</div></td><td><div class=\"dni-plaintext\">UA</div></td><td><div class=\"dni-plaintext\">194</div></td><td><div class=\"dni-plaintext\">N29129</div></td><td><div class=\"dni-plaintext\">JFK</div></td><td><div class=\"dni-plaintext\">LAX</div></td><td><div class=\"dni-plaintext\">345</div></td><td>...</td></tr><tr><td><div class=\"dni-plaintext\">13</div></td><td><div class=\"dni-plaintext\">2013</div></td><td><div class=\"dni-plaintext\">1</div></td><td><div class=\"dni-plaintext\">1</div></td><td><div class=\"dni-plaintext\">558</div></td><td><div class=\"dni-plaintext\">600</div></td><td><div class=\"dni-plaintext\">-2</div></td><td><div class=\"dni-plaintext\">923</div></td><td><div class=\"dni-plaintext\">937</div></td><td><div class=\"dni-plaintext\">-14</div></td><td><div class=\"dni-plaintext\">UA</div></td><td><div class=\"dni-plaintext\">1124</div></td><td><div class=\"dni-plaintext\">N53441</div></td><td><div class=\"dni-plaintext\">EWR</div></td><td><div class=\"dni-plaintext\">SFO</div></td><td><div class=\"dni-plaintext\">361</div></td><td>...</td></tr><tr><td><div class=\"dni-plaintext\">14</div></td><td><div class=\"dni-plaintext\">2013</div></td><td><div class=\"dni-plaintext\">1</div></td><td><div class=\"dni-plaintext\">1</div></td><td><div class=\"dni-plaintext\">559</div></td><td><div class=\"dni-plaintext\">600</div></td><td><div class=\"dni-plaintext\">-1</div></td><td><div class=\"dni-plaintext\">941</div></td><td><div class=\"dni-plaintext\">910</div></td><td><div class=\"dni-plaintext\">31</div></td><td><div class=\"dni-plaintext\">AA</div></td><td><div class=\"dni-plaintext\">707</div></td><td><div class=\"dni-plaintext\">N3DUAA</div></td><td><div class=\"dni-plaintext\">LGA</div></td><td><div class=\"dni-plaintext\">DFW</div></td><td><div class=\"dni-plaintext\">257</div></td><td>...</td></tr><tr><td><div class=\"dni-plaintext\">15</div></td><td><div class=\"dni-plaintext\">2013</div></td><td><div class=\"dni-plaintext\">1</div></td><td><div class=\"dni-plaintext\">1</div></td><td><div class=\"dni-plaintext\">559</div></td><td><div class=\"dni-plaintext\">559</div></td><td><div class=\"dni-plaintext\">0</div></td><td><div class=\"dni-plaintext\">702</div></td><td><div class=\"dni-plaintext\">706</div></td><td><div class=\"dni-plaintext\">-4</div></td><td><div class=\"dni-plaintext\">B6</div></td><td><div class=\"dni-plaintext\">1806</div></td><td><div class=\"dni-plaintext\">N708JB</div></td><td><div class=\"dni-plaintext\">JFK</div></td><td><div class=\"dni-plaintext\">BOS</div></td><td><div class=\"dni-plaintext\">44</div></td><td>...</td></tr><tr><td><div class=\"dni-plaintext\">16</div></td><td><div class=\"dni-plaintext\">2013</div></td><td><div class=\"dni-plaintext\">1</div></td><td><div class=\"dni-plaintext\">1</div></td><td><div class=\"dni-plaintext\">559</div></td><td><div class=\"dni-plaintext\">600</div></td><td><div class=\"dni-plaintext\">-1</div></td><td><div class=\"dni-plaintext\">854</div></td><td><div class=\"dni-plaintext\">902</div></td><td><div class=\"dni-plaintext\">-8</div></td><td><div class=\"dni-plaintext\">UA</div></td><td><div class=\"dni-plaintext\">1187</div></td><td><div class=\"dni-plaintext\">N76515</div></td><td><div class=\"dni-plaintext\">EWR</div></td><td><div class=\"dni-plaintext\">LAS</div></td><td><div class=\"dni-plaintext\">337</div></td><td>...</td></tr><tr><td><div class=\"dni-plaintext\">17</div></td><td><div class=\"dni-plaintext\">2013</div></td><td><div class=\"dni-plaintext\">1</div></td><td><div class=\"dni-plaintext\">1</div></td><td><div class=\"dni-plaintext\">600</div></td><td><div class=\"dni-plaintext\">600</div></td><td><div class=\"dni-plaintext\">0</div></td><td><div class=\"dni-plaintext\">851</div></td><td><div class=\"dni-plaintext\">858</div></td><td><div class=\"dni-plaintext\">-7</div></td><td><div class=\"dni-plaintext\">B6</div></td><td><div class=\"dni-plaintext\">371</div></td><td><div class=\"dni-plaintext\">N595JB</div></td><td><div class=\"dni-plaintext\">LGA</div></td><td><div class=\"dni-plaintext\">FLL</div></td><td><div class=\"dni-plaintext\">152</div></td><td>...</td></tr><tr><td><div class=\"dni-plaintext\">18</div></td><td><div class=\"dni-plaintext\">2013</div></td><td><div class=\"dni-plaintext\">1</div></td><td><div class=\"dni-plaintext\">1</div></td><td><div class=\"dni-plaintext\">600</div></td><td><div class=\"dni-plaintext\">600</div></td><td><div class=\"dni-plaintext\">0</div></td><td><div class=\"dni-plaintext\">837</div></td><td><div class=\"dni-plaintext\">825</div></td><td><div class=\"dni-plaintext\">12</div></td><td><div class=\"dni-plaintext\">MQ</div></td><td><div class=\"dni-plaintext\">4650</div></td><td><div class=\"dni-plaintext\">N542MQ</div></td><td><div class=\"dni-plaintext\">LGA</div></td><td><div class=\"dni-plaintext\">ATL</div></td><td><div class=\"dni-plaintext\">134</div></td><td>...</td></tr><tr><td><div class=\"dni-plaintext\">19</div></td><td><div class=\"dni-plaintext\">2013</div></td><td><div class=\"dni-plaintext\">1</div></td><td><div class=\"dni-plaintext\">1</div></td><td><div class=\"dni-plaintext\">601</div></td><td><div class=\"dni-plaintext\">600</div></td><td><div class=\"dni-plaintext\">1</div></td><td><div class=\"dni-plaintext\">844</div></td><td><div class=\"dni-plaintext\">850</div></td><td><div class=\"dni-plaintext\">-6</div></td><td><div class=\"dni-plaintext\">B6</div></td><td><div class=\"dni-plaintext\">343</div></td><td><div class=\"dni-plaintext\">N644JB</div></td><td><div class=\"dni-plaintext\">EWR</div></td><td><div class=\"dni-plaintext\">PBI</div></td><td><div class=\"dni-plaintext\">147</div></td><td>...</td></tr><tr><td>...</td><td>...</td><td>...</td><td>...</td><td>...</td><td>...</td><td>...</td><td>...</td><td>...</td><td>...</td><td>...</td><td>...</td><td>...</td><td>...</td><td>...</td><td>...</td><td>...</td></tr></tbody></table><div><p><span>...with 336756 rows additional rows and 4 additional variables: <br></br><span> <b>distance</b><small> &lt;System.Int32&gt;</small> </span><span> <b>hour</b><small> &lt;System.Int32&gt;</small> </span><span> <b>minute</b><small> &lt;System.Int32&gt;</small> </span><span> <b>time_hour</b><small> &lt;System.DateTime&gt;</small> </span></span></p></div></div>"
     },
     "execution_count": 1,
     "metadata": {}
    }
   ]
  },
  {
   "cell_type": "code",
   "execution_count": 1,
   "metadata": {},
   "source": [
    "#!fsharp\r\n",
    "flights?dep_time"
   ],
   "outputs": [
    {
     "output_type": "execute_result",
     "data": {
      "text/html": "<table><caption>A series: 336776 values. Key type: System.Int32 Value type: System.Double</caption><thead><thead><th>Keys</th><th>0</th><th>1</th><th>2</th><th>3</th><th>4</th><th>5</th><th>6</th><th>7</th><th>8</th><th>9</th><th>10</th><th>11</th><th>12</th><th>13</th><th>14</th><th>...</th></thead></thead><tbody><td>Values</td><td>517</td><td>533</td><td>542</td><td>544</td><td>554</td><td>554</td><td>555</td><td>557</td><td>557</td><td>558</td><td>558</td><td>558</td><td>558</td><td>558</td><td>559</td><th>...</th></tbody></table>"
     },
     "execution_count": 1,
     "metadata": {}
    }
   ]
  },
  {
   "cell_type": "code",
   "execution_count": 1,
   "metadata": {},
   "source": [
    "#!fsharp\r\n",
    "flights.GetColumn<string>(\"origin\")"
   ],
   "outputs": [
    {
     "output_type": "execute_result",
     "data": {
      "text/html": "<table><caption>A series: 336776 values. Key type: System.Int32 Value type: System.String</caption><thead><thead><th>Keys</th><th>0</th><th>1</th><th>2</th><th>3</th><th>4</th><th>5</th><th>6</th><th>7</th><th>8</th><th>9</th><th>10</th><th>11</th><th>12</th><th>13</th><th>14</th><th>...</th></thead></thead><tbody><td>Values</td><td>EWR</td><td>LGA</td><td>JFK</td><td>JFK</td><td>LGA</td><td>EWR</td><td>EWR</td><td>LGA</td><td>JFK</td><td>LGA</td><td>JFK</td><td>JFK</td><td>JFK</td><td>EWR</td><td>LGA</td><th>...</th></tbody></table>"
     },
     "execution_count": 1,
     "metadata": {}
    }
   ]
  },
  {
   "cell_type": "code",
   "execution_count": 1,
   "metadata": {},
   "source": [
    "#!fsharp\r\n",
    "flights?dep_delay\r\n",
    "|> Stats.mean"
   ],
   "outputs": [
    {
     "output_type": "execute_result",
     "data": {
      "text/html": "<div class=\"dni-plaintext\">12.639070257304708</div>"
     },
     "execution_count": 1,
     "metadata": {}
    }
   ]
  }
 ],
 "metadata": {
  "kernelspec": {
   "display_name": ".NET (C#)",
   "language": "C#",
   "name": ".net-csharp"
  },
  "language_info": {
   "file_extension": ".cs",
   "mimetype": "text/x-csharp",
   "name": "C#",
   "pygments_lexer": "csharp",
   "version": "8.0"
  }
 },
 "nbformat": 4,
 "nbformat_minor": 4
}