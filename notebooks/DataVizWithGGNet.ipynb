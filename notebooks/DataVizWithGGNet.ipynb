{
 "cells": [
  {
   "cell_type": "code",
   "execution_count": 1,
   "metadata": {},
   "source": [
    "#!fsharp\n",
    "#r \"nuget: Deedle\"\n",
    "#r \"nuget: GGNet\"\n",
    "#r \"nuget: GGNet.Static\"\n",
    "\n",
    "#i \"/home/gregor/source/repos/FSharpForDataScience/_libs\"\n",
    "#r \"nuget: Deedle.DotNet.Interactive.Extension, 0.1.0-dev6\""
   ],
   "outputs": [
    {
     "output_type": "execute_result",
     "data": {
      "text/html": "<div><strong>Restore sources</strong><ul><li><span>https://pkgs.dev.azure.com/dnceng/public/_packaging/dotnet-tools/nuget/v3/index.json</span></li><li><span>/home/gregor/source/repos/FSharpForDataScience/_libs</span></li></ul></div>"
     },
     "execution_count": 1,
     "metadata": {}
    },
    {
     "output_type": "execute_result",
     "data": {
      "text/plain": "Installed package Deedle.DotNet.Interactive.Extension version 0.1.0-dev6"
     },
     "execution_count": 1,
     "metadata": {}
    },
    {
     "output_type": "execute_result",
     "data": {
      "text/plain": "Installed package GGNet version 1.4.1"
     },
     "execution_count": 1,
     "metadata": {}
    },
    {
     "output_type": "execute_result",
     "data": {
      "text/plain": "Installed package Deedle version 2.3.0"
     },
     "execution_count": 1,
     "metadata": {}
    },
    {
     "output_type": "execute_result",
     "data": {
      "text/plain": "Installed package GGNet.Static version 1.2.0"
     },
     "execution_count": 1,
     "metadata": {}
    },
    {
     "output_type": "execute_result",
     "data": {
      "text/plain": "Loaded Deedle.DotNet.Interactive.Extension.DeedleFormatterExtension"
     },
     "execution_count": 1,
     "metadata": {}
    },
    {
     "output_type": "execute_result",
     "data": {
      "text/markdown": "Added DeedleFormatterExtension including formatters for Frame and Series"
     },
     "execution_count": 1,
     "metadata": {}
    }
   ]
  },
  {
   "cell_type": "code",
   "execution_count": 1,
   "metadata": {},
   "source": [
    "#!fsharp\n",
    "open Deedle\n",
    "open GGNet\n",
    "open GGNet.Static"
   ],
   "outputs": []
  },
  {
   "cell_type": "code",
   "execution_count": 1,
   "metadata": {},
   "source": [
    "#!fsharp\n",
    "let flights = Frame.ReadCsv \"/home/gregor/source/repos/FSharpForDataScience/datasets/nycflights13/flights.csv\""
   ],
   "outputs": []
  },
  {
   "cell_type": "code",
   "execution_count": 1,
   "metadata": {},
   "source": [
    "#!fsharp\n",
    "flights"
   ],
   "outputs": [
    {
     "output_type": "execute_result",
     "data": {
      "text/html": "<div><table><caption>A frame: 336776 x 19</caption><thead><tr><th></th><th>year</th><th>month</th><th>day</th><th>dep_time</th><th>sched_dep_time</th><th>dep_delay</th><th>arr_time</th><th>sched_arr_time</th><th>arr_delay</th><th>carrier</th><th>flight</th><th>tailnum</th><th>origin</th><th>dest</th><th>air_time</th><th>...</th></tr><tr><th></th><th>System.Int32</th><th>System.Int32</th><th>System.Int32</th><th>System.Int32</th><th>System.Int32</th><th>System.Int32</th><th>System.Int32</th><th>System.Int32</th><th>System.Int32</th><th>System.String</th><th>System.Int32</th><th>System.String</th><th>System.String</th><th>System.String</th><th>System.Int32</th><th>...</th></tr></thead><tbody><tr><td><div class=\"dni-plaintext\">0</div></td><td><div class=\"dni-plaintext\">2013</div></td><td><div class=\"dni-plaintext\">1</div></td><td><div class=\"dni-plaintext\">1</div></td><td><div class=\"dni-plaintext\">517</div></td><td><div class=\"dni-plaintext\">515</div></td><td><div class=\"dni-plaintext\">2</div></td><td><div class=\"dni-plaintext\">830</div></td><td><div class=\"dni-plaintext\">819</div></td><td><div class=\"dni-plaintext\">11</div></td><td><div class=\"dni-plaintext\">UA</div></td><td><div class=\"dni-plaintext\">1545</div></td><td><div class=\"dni-plaintext\">N14228</div></td><td><div class=\"dni-plaintext\">EWR</div></td><td><div class=\"dni-plaintext\">IAH</div></td><td><div class=\"dni-plaintext\">227</div></td><td>...</td></tr><tr><td><div class=\"dni-plaintext\">1</div></td><td><div class=\"dni-plaintext\">2013</div></td><td><div class=\"dni-plaintext\">1</div></td><td><div class=\"dni-plaintext\">1</div></td><td><div class=\"dni-plaintext\">533</div></td><td><div class=\"dni-plaintext\">529</div></td><td><div class=\"dni-plaintext\">4</div></td><td><div class=\"dni-plaintext\">850</div></td><td><div class=\"dni-plaintext\">830</div></td><td><div class=\"dni-plaintext\">20</div></td><td><div class=\"dni-plaintext\">UA</div></td><td><div class=\"dni-plaintext\">1714</div></td><td><div class=\"dni-plaintext\">N24211</div></td><td><div class=\"dni-plaintext\">LGA</div></td><td><div class=\"dni-plaintext\">IAH</div></td><td><div class=\"dni-plaintext\">227</div></td><td>...</td></tr><tr><td><div class=\"dni-plaintext\">2</div></td><td><div class=\"dni-plaintext\">2013</div></td><td><div class=\"dni-plaintext\">1</div></td><td><div class=\"dni-plaintext\">1</div></td><td><div class=\"dni-plaintext\">542</div></td><td><div class=\"dni-plaintext\">540</div></td><td><div class=\"dni-plaintext\">2</div></td><td><div class=\"dni-plaintext\">923</div></td><td><div class=\"dni-plaintext\">850</div></td><td><div class=\"dni-plaintext\">33</div></td><td><div class=\"dni-plaintext\">AA</div></td><td><div class=\"dni-plaintext\">1141</div></td><td><div class=\"dni-plaintext\">N619AA</div></td><td><div class=\"dni-plaintext\">JFK</div></td><td><div class=\"dni-plaintext\">MIA</div></td><td><div class=\"dni-plaintext\">160</div></td><td>...</td></tr><tr><td><div class=\"dni-plaintext\">3</div></td><td><div class=\"dni-plaintext\">2013</div></td><td><div class=\"dni-plaintext\">1</div></td><td><div class=\"dni-plaintext\">1</div></td><td><div class=\"dni-plaintext\">544</div></td><td><div class=\"dni-plaintext\">545</div></td><td><div class=\"dni-plaintext\">-1</div></td><td><div class=\"dni-plaintext\">1004</div></td><td><div class=\"dni-plaintext\">1022</div></td><td><div class=\"dni-plaintext\">-18</div></td><td><div class=\"dni-plaintext\">B6</div></td><td><div class=\"dni-plaintext\">725</div></td><td><div class=\"dni-plaintext\">N804JB</div></td><td><div class=\"dni-plaintext\">JFK</div></td><td><div class=\"dni-plaintext\">BQN</div></td><td><div class=\"dni-plaintext\">183</div></td><td>...</td></tr><tr><td><div class=\"dni-plaintext\">4</div></td><td><div class=\"dni-plaintext\">2013</div></td><td><div class=\"dni-plaintext\">1</div></td><td><div class=\"dni-plaintext\">1</div></td><td><div class=\"dni-plaintext\">554</div></td><td><div class=\"dni-plaintext\">600</div></td><td><div class=\"dni-plaintext\">-6</div></td><td><div class=\"dni-plaintext\">812</div></td><td><div class=\"dni-plaintext\">837</div></td><td><div class=\"dni-plaintext\">-25</div></td><td><div class=\"dni-plaintext\">DL</div></td><td><div class=\"dni-plaintext\">461</div></td><td><div class=\"dni-plaintext\">N668DN</div></td><td><div class=\"dni-plaintext\">LGA</div></td><td><div class=\"dni-plaintext\">ATL</div></td><td><div class=\"dni-plaintext\">116</div></td><td>...</td></tr><tr><td><div class=\"dni-plaintext\">5</div></td><td><div class=\"dni-plaintext\">2013</div></td><td><div class=\"dni-plaintext\">1</div></td><td><div class=\"dni-plaintext\">1</div></td><td><div class=\"dni-plaintext\">554</div></td><td><div class=\"dni-plaintext\">558</div></td><td><div class=\"dni-plaintext\">-4</div></td><td><div class=\"dni-plaintext\">740</div></td><td><div class=\"dni-plaintext\">728</div></td><td><div class=\"dni-plaintext\">12</div></td><td><div class=\"dni-plaintext\">UA</div></td><td><div class=\"dni-plaintext\">1696</div></td><td><div class=\"dni-plaintext\">N39463</div></td><td><div class=\"dni-plaintext\">EWR</div></td><td><div class=\"dni-plaintext\">ORD</div></td><td><div class=\"dni-plaintext\">150</div></td><td>...</td></tr><tr><td><div class=\"dni-plaintext\">6</div></td><td><div class=\"dni-plaintext\">2013</div></td><td><div class=\"dni-plaintext\">1</div></td><td><div class=\"dni-plaintext\">1</div></td><td><div class=\"dni-plaintext\">555</div></td><td><div class=\"dni-plaintext\">600</div></td><td><div class=\"dni-plaintext\">-5</div></td><td><div class=\"dni-plaintext\">913</div></td><td><div class=\"dni-plaintext\">854</div></td><td><div class=\"dni-plaintext\">19</div></td><td><div class=\"dni-plaintext\">B6</div></td><td><div class=\"dni-plaintext\">507</div></td><td><div class=\"dni-plaintext\">N516JB</div></td><td><div class=\"dni-plaintext\">EWR</div></td><td><div class=\"dni-plaintext\">FLL</div></td><td><div class=\"dni-plaintext\">158</div></td><td>...</td></tr><tr><td><div class=\"dni-plaintext\">7</div></td><td><div class=\"dni-plaintext\">2013</div></td><td><div class=\"dni-plaintext\">1</div></td><td><div class=\"dni-plaintext\">1</div></td><td><div class=\"dni-plaintext\">557</div></td><td><div class=\"dni-plaintext\">600</div></td><td><div class=\"dni-plaintext\">-3</div></td><td><div class=\"dni-plaintext\">709</div></td><td><div class=\"dni-plaintext\">723</div></td><td><div class=\"dni-plaintext\">-14</div></td><td><div class=\"dni-plaintext\">EV</div></td><td><div class=\"dni-plaintext\">5708</div></td><td><div class=\"dni-plaintext\">N829AS</div></td><td><div class=\"dni-plaintext\">LGA</div></td><td><div class=\"dni-plaintext\">IAD</div></td><td><div class=\"dni-plaintext\">53</div></td><td>...</td></tr><tr><td><div class=\"dni-plaintext\">8</div></td><td><div class=\"dni-plaintext\">2013</div></td><td><div class=\"dni-plaintext\">1</div></td><td><div class=\"dni-plaintext\">1</div></td><td><div class=\"dni-plaintext\">557</div></td><td><div class=\"dni-plaintext\">600</div></td><td><div class=\"dni-plaintext\">-3</div></td><td><div class=\"dni-plaintext\">838</div></td><td><div class=\"dni-plaintext\">846</div></td><td><div class=\"dni-plaintext\">-8</div></td><td><div class=\"dni-plaintext\">B6</div></td><td><div class=\"dni-plaintext\">79</div></td><td><div class=\"dni-plaintext\">N593JB</div></td><td><div class=\"dni-plaintext\">JFK</div></td><td><div class=\"dni-plaintext\">MCO</div></td><td><div class=\"dni-plaintext\">140</div></td><td>...</td></tr><tr><td><div class=\"dni-plaintext\">9</div></td><td><div class=\"dni-plaintext\">2013</div></td><td><div class=\"dni-plaintext\">1</div></td><td><div class=\"dni-plaintext\">1</div></td><td><div class=\"dni-plaintext\">558</div></td><td><div class=\"dni-plaintext\">600</div></td><td><div class=\"dni-plaintext\">-2</div></td><td><div class=\"dni-plaintext\">753</div></td><td><div class=\"dni-plaintext\">745</div></td><td><div class=\"dni-plaintext\">8</div></td><td><div class=\"dni-plaintext\">AA</div></td><td><div class=\"dni-plaintext\">301</div></td><td><div class=\"dni-plaintext\">N3ALAA</div></td><td><div class=\"dni-plaintext\">LGA</div></td><td><div class=\"dni-plaintext\">ORD</div></td><td><div class=\"dni-plaintext\">138</div></td><td>...</td></tr><tr><td><div class=\"dni-plaintext\">10</div></td><td><div class=\"dni-plaintext\">2013</div></td><td><div class=\"dni-plaintext\">1</div></td><td><div class=\"dni-plaintext\">1</div></td><td><div class=\"dni-plaintext\">558</div></td><td><div class=\"dni-plaintext\">600</div></td><td><div class=\"dni-plaintext\">-2</div></td><td><div class=\"dni-plaintext\">849</div></td><td><div class=\"dni-plaintext\">851</div></td><td><div class=\"dni-plaintext\">-2</div></td><td><div class=\"dni-plaintext\">B6</div></td><td><div class=\"dni-plaintext\">49</div></td><td><div class=\"dni-plaintext\">N793JB</div></td><td><div class=\"dni-plaintext\">JFK</div></td><td><div class=\"dni-plaintext\">PBI</div></td><td><div class=\"dni-plaintext\">149</div></td><td>...</td></tr><tr><td><div class=\"dni-plaintext\">11</div></td><td><div class=\"dni-plaintext\">2013</div></td><td><div class=\"dni-plaintext\">1</div></td><td><div class=\"dni-plaintext\">1</div></td><td><div class=\"dni-plaintext\">558</div></td><td><div class=\"dni-plaintext\">600</div></td><td><div class=\"dni-plaintext\">-2</div></td><td><div class=\"dni-plaintext\">853</div></td><td><div class=\"dni-plaintext\">856</div></td><td><div class=\"dni-plaintext\">-3</div></td><td><div class=\"dni-plaintext\">B6</div></td><td><div class=\"dni-plaintext\">71</div></td><td><div class=\"dni-plaintext\">N657JB</div></td><td><div class=\"dni-plaintext\">JFK</div></td><td><div class=\"dni-plaintext\">TPA</div></td><td><div class=\"dni-plaintext\">158</div></td><td>...</td></tr><tr><td><div class=\"dni-plaintext\">12</div></td><td><div class=\"dni-plaintext\">2013</div></td><td><div class=\"dni-plaintext\">1</div></td><td><div class=\"dni-plaintext\">1</div></td><td><div class=\"dni-plaintext\">558</div></td><td><div class=\"dni-plaintext\">600</div></td><td><div class=\"dni-plaintext\">-2</div></td><td><div class=\"dni-plaintext\">924</div></td><td><div class=\"dni-plaintext\">917</div></td><td><div class=\"dni-plaintext\">7</div></td><td><div class=\"dni-plaintext\">UA</div></td><td><div class=\"dni-plaintext\">194</div></td><td><div class=\"dni-plaintext\">N29129</div></td><td><div class=\"dni-plaintext\">JFK</div></td><td><div class=\"dni-plaintext\">LAX</div></td><td><div class=\"dni-plaintext\">345</div></td><td>...</td></tr><tr><td><div class=\"dni-plaintext\">13</div></td><td><div class=\"dni-plaintext\">2013</div></td><td><div class=\"dni-plaintext\">1</div></td><td><div class=\"dni-plaintext\">1</div></td><td><div class=\"dni-plaintext\">558</div></td><td><div class=\"dni-plaintext\">600</div></td><td><div class=\"dni-plaintext\">-2</div></td><td><div class=\"dni-plaintext\">923</div></td><td><div class=\"dni-plaintext\">937</div></td><td><div class=\"dni-plaintext\">-14</div></td><td><div class=\"dni-plaintext\">UA</div></td><td><div class=\"dni-plaintext\">1124</div></td><td><div class=\"dni-plaintext\">N53441</div></td><td><div class=\"dni-plaintext\">EWR</div></td><td><div class=\"dni-plaintext\">SFO</div></td><td><div class=\"dni-plaintext\">361</div></td><td>...</td></tr><tr><td><div class=\"dni-plaintext\">14</div></td><td><div class=\"dni-plaintext\">2013</div></td><td><div class=\"dni-plaintext\">1</div></td><td><div class=\"dni-plaintext\">1</div></td><td><div class=\"dni-plaintext\">559</div></td><td><div class=\"dni-plaintext\">600</div></td><td><div class=\"dni-plaintext\">-1</div></td><td><div class=\"dni-plaintext\">941</div></td><td><div class=\"dni-plaintext\">910</div></td><td><div class=\"dni-plaintext\">31</div></td><td><div class=\"dni-plaintext\">AA</div></td><td><div class=\"dni-plaintext\">707</div></td><td><div class=\"dni-plaintext\">N3DUAA</div></td><td><div class=\"dni-plaintext\">LGA</div></td><td><div class=\"dni-plaintext\">DFW</div></td><td><div class=\"dni-plaintext\">257</div></td><td>...</td></tr><tr><td><div class=\"dni-plaintext\">15</div></td><td><div class=\"dni-plaintext\">2013</div></td><td><div class=\"dni-plaintext\">1</div></td><td><div class=\"dni-plaintext\">1</div></td><td><div class=\"dni-plaintext\">559</div></td><td><div class=\"dni-plaintext\">559</div></td><td><div class=\"dni-plaintext\">0</div></td><td><div class=\"dni-plaintext\">702</div></td><td><div class=\"dni-plaintext\">706</div></td><td><div class=\"dni-plaintext\">-4</div></td><td><div class=\"dni-plaintext\">B6</div></td><td><div class=\"dni-plaintext\">1806</div></td><td><div class=\"dni-plaintext\">N708JB</div></td><td><div class=\"dni-plaintext\">JFK</div></td><td><div class=\"dni-plaintext\">BOS</div></td><td><div class=\"dni-plaintext\">44</div></td><td>...</td></tr><tr><td><div class=\"dni-plaintext\">16</div></td><td><div class=\"dni-plaintext\">2013</div></td><td><div class=\"dni-plaintext\">1</div></td><td><div class=\"dni-plaintext\">1</div></td><td><div class=\"dni-plaintext\">559</div></td><td><div class=\"dni-plaintext\">600</div></td><td><div class=\"dni-plaintext\">-1</div></td><td><div class=\"dni-plaintext\">854</div></td><td><div class=\"dni-plaintext\">902</div></td><td><div class=\"dni-plaintext\">-8</div></td><td><div class=\"dni-plaintext\">UA</div></td><td><div class=\"dni-plaintext\">1187</div></td><td><div class=\"dni-plaintext\">N76515</div></td><td><div class=\"dni-plaintext\">EWR</div></td><td><div class=\"dni-plaintext\">LAS</div></td><td><div class=\"dni-plaintext\">337</div></td><td>...</td></tr><tr><td><div class=\"dni-plaintext\">17</div></td><td><div class=\"dni-plaintext\">2013</div></td><td><div class=\"dni-plaintext\">1</div></td><td><div class=\"dni-plaintext\">1</div></td><td><div class=\"dni-plaintext\">600</div></td><td><div class=\"dni-plaintext\">600</div></td><td><div class=\"dni-plaintext\">0</div></td><td><div class=\"dni-plaintext\">851</div></td><td><div class=\"dni-plaintext\">858</div></td><td><div class=\"dni-plaintext\">-7</div></td><td><div class=\"dni-plaintext\">B6</div></td><td><div class=\"dni-plaintext\">371</div></td><td><div class=\"dni-plaintext\">N595JB</div></td><td><div class=\"dni-plaintext\">LGA</div></td><td><div class=\"dni-plaintext\">FLL</div></td><td><div class=\"dni-plaintext\">152</div></td><td>...</td></tr><tr><td><div class=\"dni-plaintext\">18</div></td><td><div class=\"dni-plaintext\">2013</div></td><td><div class=\"dni-plaintext\">1</div></td><td><div class=\"dni-plaintext\">1</div></td><td><div class=\"dni-plaintext\">600</div></td><td><div class=\"dni-plaintext\">600</div></td><td><div class=\"dni-plaintext\">0</div></td><td><div class=\"dni-plaintext\">837</div></td><td><div class=\"dni-plaintext\">825</div></td><td><div class=\"dni-plaintext\">12</div></td><td><div class=\"dni-plaintext\">MQ</div></td><td><div class=\"dni-plaintext\">4650</div></td><td><div class=\"dni-plaintext\">N542MQ</div></td><td><div class=\"dni-plaintext\">LGA</div></td><td><div class=\"dni-plaintext\">ATL</div></td><td><div class=\"dni-plaintext\">134</div></td><td>...</td></tr><tr><td><div class=\"dni-plaintext\">19</div></td><td><div class=\"dni-plaintext\">2013</div></td><td><div class=\"dni-plaintext\">1</div></td><td><div class=\"dni-plaintext\">1</div></td><td><div class=\"dni-plaintext\">601</div></td><td><div class=\"dni-plaintext\">600</div></td><td><div class=\"dni-plaintext\">1</div></td><td><div class=\"dni-plaintext\">844</div></td><td><div class=\"dni-plaintext\">850</div></td><td><div class=\"dni-plaintext\">-6</div></td><td><div class=\"dni-plaintext\">B6</div></td><td><div class=\"dni-plaintext\">343</div></td><td><div class=\"dni-plaintext\">N644JB</div></td><td><div class=\"dni-plaintext\">EWR</div></td><td><div class=\"dni-plaintext\">PBI</div></td><td><div class=\"dni-plaintext\">147</div></td><td>...</td></tr><tr><td>...</td><td>...</td><td>...</td><td>...</td><td>...</td><td>...</td><td>...</td><td>...</td><td>...</td><td>...</td><td>...</td><td>...</td><td>...</td><td>...</td><td>...</td><td>...</td></tr></tbody></table><div><p><span>...with 336756 additional rows and 4 additional variables: <br></br><span> <b>&quot;distance&quot;</b><small> &lt;System.Int32&gt;</small> </span><span> <b>&quot;hour&quot;</b><small> &lt;System.Int32&gt;</small> </span><span> <b>&quot;minute&quot;</b><small> &lt;System.Int32&gt;</small> </span><span> <b>&quot;time_hour&quot;</b><small> &lt;System.DateTime&gt;</small> </span></span></p></div></div>"
     },
     "execution_count": 1,
     "metadata": {}
    }
   ]
  },
  {
   "cell_type": "code",
   "execution_count": 1,
   "metadata": {},
   "source": [
    "#!fsharp\n",
    "type ITestRow =\n",
    "    abstract member dep_delay: OptionalValue<int>\n",
    "    abstract member arr_delay: OptionalValue<int>\n",
    "\n",
    "let hasNaValue (itr : ITestRow) =\n",
    "    match itr.dep_delay.HasValue, itr.arr_delay.HasValue with\n",
    "    | false, false -> true\n",
    "    | false, true -> true\n",
    "    | true, false -> true\n",
    "    | true, true -> false\n",
    "\n",
    "let source =\n",
    "    flights.GetRowsAs<ITestRow>()\n",
    "    |> Series.values\n",
    "    |> Seq.filter (hasNaValue >> not)\n",
    "    |> fun rows -> Source(rows)\n",
    "\n",
    "// fails because of dependencies\n",
    "// let plot =\n",
    "//     Plot.New(source, x = (fun row -> row.dep_delay.Value |> float), y = (fun row -> row.arr_delay.Value |> float))\n",
    "//         .Geom_Point()\n",
    "\n",
    "// plot.AsString()\n",
    ""
   ],
   "outputs": []
  },
  {
   "cell_type": "code",
   "execution_count": 1,
   "metadata": {},
   "source": [
    "#!fsharp\n",
    ""
   ],
   "outputs": []
  }
 ],
 "metadata": {
  "kernelspec": {
   "display_name": ".NET (C#)",
   "language": "C#",
   "name": ".net-csharp"
  },
  "language_info": {
   "file_extension": ".cs",
   "mimetype": "text/x-csharp",
   "name": "C#",
   "pygments_lexer": "csharp",
   "version": "8.0"
  }
 },
 "nbformat": 4,
 "nbformat_minor": 4
}