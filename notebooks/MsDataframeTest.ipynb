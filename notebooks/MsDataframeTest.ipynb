{
 "cells": [
  {
   "cell_type": "code",
   "execution_count": 1,
   "metadata": {},
   "source": [
    "#!fsharp\n",
    "// #i \"nuget: https://api.nuget.org/v3/index.json\"\n",
    "// #i \"nuget: https://pkgs.dev.azure.com/dnceng/public/_packaging/dotnet-eng/nuget/v3/index.json\"\n",
    "// #i \"nuget: https://pkgs.dev.azure.com/dnceng/public/_packaging/dotnet-tools/nuget/v3/index.json\"\n",
    "// #i \"nuget: https://pkgs.dev.azure.com/dnceng/public/_packaging/dotnet3.1/nuget/v3/index.json\"\n",
    "// #i \"nuget: https://pkgs.dev.azure.com/dnceng/public/_packaging/dotnet5/nuget/v3/index.json\"\n",
    "// #i \"nuget: https://pkgs.dev.azure.com/dnceng/public/_packaging/MachineLearning/nuget/v3/index.json\"\n",
    "// #i \"nuget: https://www.powershellgallery.com/api/v2/\"\n",
    "\n",
    "#r \"nuget: Microsoft.Data.Analysis, 0.4.0\"\n",
    "// #r \"nuget: Microsoft.DotNet.Interactive.ExtensionLab, 1.0.0-beta.20574.9\""
   ],
   "outputs": [
    {
     "output_type": "execute_result",
     "data": {
      "text/plain": "Installed package Microsoft.Data.Analysis version 0.4.0"
     },
     "execution_count": 1,
     "metadata": {}
    }
   ]
  },
  {
   "cell_type": "code",
   "execution_count": 1,
   "metadata": {},
   "source": [
    "#!fsharp\n",
    "open System\n",
    "open Microsoft.Data.Analysis\n",
    "open Microsoft.ML\n",
    "open Microsoft.DotNet.Interactive.FSharp.FSharpKernelHelpers.DisplayFunctions"
   ],
   "outputs": []
  },
  {
   "cell_type": "code",
   "execution_count": 1,
   "metadata": {},
   "source": [
    "#!fsharp\n",
    "module DataViewFormatter =\n",
    "    // a lot of differnt questions here - first of all th\n",
    "    // open System.Text\n",
    "\n",
    "    // Formatter.SetPreferredMimeTypeFor(typeof<DataFrame>, TabularDataFormatter.MimeType)\n",
    "\n",
    "    // Formatter.Register<DataFrame>((fun (dataView: DataFrame) (writer: TextWriter) ->\n",
    "    //     let tabular = dataView.ToTabularJsonString()\n",
    "    //     writer.Write(tabular)), TabularDataFormatter.MimeType)\n",
    "    ()"
   ],
   "outputs": []
  },
  {
   "cell_type": "code",
   "execution_count": 1,
   "metadata": {},
   "source": [
    "#!fsharp\n",
    "module DateFrameFormatter = \n",
    "    \n",
    "    // Locally open the F# HTML DSL.\n",
    "    open Microsoft.DotNet.Interactive.FSharp.FSharpKernelHelpers.Html\n",
    "\n",
    "    let maxRows = 20\n",
    "\n",
    "    Formatter.Register<DataFrame>((fun (context: FormatContext) (df: DataFrame) (writer: TextWriter) ->\n",
    "\n",
    "        // Don't generate nested tables\n",
    "        if context.ContentThreshold < 1.0 then false else\n",
    "\n",
    "        // Ask other formatters to reduce information generation\n",
    "        context.ReduceContent(0.2) |> ignore\n",
    "\n",
    "        let take = 20\n",
    "        table [] [\n",
    "          thead [] [\n",
    "            th [] [ str \"Index\" ]\n",
    "            for c in df.Columns do\n",
    "              th [] [ str c.Name]\n",
    "          ]\n",
    "          tbody [] [\n",
    "            for i in 0 .. min maxRows (int df.Rows.Count - 1) do\n",
    "              tr [] [\n",
    "                td [] [ embed context i ]\n",
    "                for o in df.Rows.[int64 i] do\n",
    "                  td [] [ embed context o ]\n",
    "              ]\n",
    "          ]\n",
    "        ]\n",
    "        |> writer.Write\n",
    "\n",
    "        true\n",
    "    ), mimeType = \"text/html\")\n",
    "    \n",
    "    Formatter.Register<DataFrameRow>((fun (context: FormatContext) (row: DataFrameRow) (writer: TextWriter) ->\n",
    "\n",
    "        // Don't generate nested tables\n",
    "        if context.ContentThreshold < 1.0 then false else\n",
    "\n",
    "        // Ask other formatters to reduce information generation\n",
    "        context.ReduceContent(0.2) |> ignore\n",
    "\n",
    "        table [] [\n",
    "          tbody [] [\n",
    "            tr [] [\n",
    "              for o in row do\n",
    "                td [] [ embed context o ] \n",
    "            ]\n",
    "          ]\n",
    "        ]\n",
    "        |> writer.Write\n",
    "\n",
    "        true\n",
    "    ), mimeType = \"text/html\")"
   ],
   "outputs": []
  },
  {
   "cell_type": "code",
   "execution_count": 1,
   "metadata": {},
   "source": [
    "#!fsharp\n",
    "let names = [| \"John\"; \"Ahmed\"; \"Sarah\"; \"Elif\" |]\n",
    "let salaries = [| 20000; 30000; 40000; 15000 |]\n",
    "let birthdays = [| DateTime.Parse(\"1990-4-23\"); DateTime.Parse(\"1982-5-4\"); DateTime.Parse(\"1980-1-2\"); DateTime.Parse(\"1994-10-9\") |]\n",
    "let departments = [| \"HR\"; \"Development\"; \"Development\"; null |]"
   ],
   "outputs": []
  },
  {
   "cell_type": "code",
   "execution_count": 1,
   "metadata": {},
   "source": [
    "#!fsharp\n",
    "let idColumn = PrimitiveDataFrameColumn(\"Id\", [| 1; 2; 3; 4 |])\n",
    "let nameColumn = StringDataFrameColumn(\"Name\", names)\n",
    "let birthdaysColumn = PrimitiveDataFrameColumn(\"Birthday\", birthdays)\n",
    "let salaryColumn = PrimitiveDataFrameColumn(\"Salary\", salaries)\n",
    "\n",
    "let employeeIdColumn = PrimitiveDataFrameColumn(\"EmployeeId\", [| 3; 1; 2; 4 |])\n",
    "let departmentColumn = StringDataFrameColumn(\"Department\", departments)"
   ],
   "outputs": []
  },
  {
   "cell_type": "code",
   "execution_count": 1,
   "metadata": {},
   "source": [
    "#!fsharp\n",
    "let employeesDf = DataFrame(idColumn, nameColumn, birthdaysColumn, salaryColumn)\n",
    "let departmentsDf = DataFrame(employeeIdColumn, departmentColumn)"
   ],
   "outputs": []
  },
  {
   "cell_type": "code",
   "execution_count": 1,
   "metadata": {},
   "source": [
    "#!fsharp\n",
    "display employeesDf\n",
    "display departmentsDf"
   ],
   "outputs": [
    {
     "output_type": "execute_result",
     "data": {
      "text/html": "<table><thead><th>Index</th><th>Id</th><th>Name</th><th>Birthday</th><th>Salary</th></thead><tbody><tr><td><div class=\"dni-plaintext\">0</div></td><td><div class=\"dni-plaintext\">1</div></td><td><div class=\"dni-plaintext\">John</div></td><td><span>1990-04-23 00:00:00Z</span></td><td><div class=\"dni-plaintext\">20000</div></td></tr><tr><td><div class=\"dni-plaintext\">1</div></td><td><div class=\"dni-plaintext\">2</div></td><td><div class=\"dni-plaintext\">Ahmed</div></td><td><span>1982-05-04 00:00:00Z</span></td><td><div class=\"dni-plaintext\">30000</div></td></tr><tr><td><div class=\"dni-plaintext\">2</div></td><td><div class=\"dni-plaintext\">3</div></td><td><div class=\"dni-plaintext\">Sarah</div></td><td><span>1980-01-02 00:00:00Z</span></td><td><div class=\"dni-plaintext\">40000</div></td></tr><tr><td><div class=\"dni-plaintext\">3</div></td><td><div class=\"dni-plaintext\">4</div></td><td><div class=\"dni-plaintext\">Elif</div></td><td><span>1994-10-09 00:00:00Z</span></td><td><div class=\"dni-plaintext\">15000</div></td></tr></tbody></table>"
     },
     "execution_count": 1,
     "metadata": {}
    },
    {
     "output_type": "execute_result",
     "data": {
      "text/html": "<table><thead><th>Index</th><th>EmployeeId</th><th>Department</th></thead><tbody><tr><td><div class=\"dni-plaintext\">0</div></td><td><div class=\"dni-plaintext\">3</div></td><td><div class=\"dni-plaintext\">HR</div></td></tr><tr><td><div class=\"dni-plaintext\">1</div></td><td><div class=\"dni-plaintext\">1</div></td><td><div class=\"dni-plaintext\">Development</div></td></tr><tr><td><div class=\"dni-plaintext\">2</div></td><td><div class=\"dni-plaintext\">2</div></td><td><div class=\"dni-plaintext\">Development</div></td></tr><tr><td><div class=\"dni-plaintext\">3</div></td><td><div class=\"dni-plaintext\">4</div></td><td><div class=\"dni-plaintext\">&lt;null&gt;</div></td></tr></tbody></table>"
     },
     "execution_count": 1,
     "metadata": {}
    }
   ]
  },
  {
   "cell_type": "code",
   "execution_count": 1,
   "metadata": {},
   "source": [
    "#!fsharp\n",
    "departmentColumn.FillNulls(\"Other\", inPlace = true)"
   ],
   "outputs": [
    {
     "output_type": "execute_result",
     "data": {
      "text/html": "<table><thead><tr><th><i>index</i></th><th>value</th></tr></thead><tbody><tr><td>0</td><td><div class=\"dni-plaintext\">HR</div></td></tr><tr><td>1</td><td><div class=\"dni-plaintext\">Development</div></td></tr><tr><td>2</td><td><div class=\"dni-plaintext\">Development</div></td></tr><tr><td>3</td><td><div class=\"dni-plaintext\">Other</div></td></tr></tbody></table>"
     },
     "execution_count": 1,
     "metadata": {}
    }
   ]
  },
  {
   "cell_type": "code",
   "execution_count": 1,
   "metadata": {},
   "source": [
    "#!fsharp\n",
    "let currentYear = DateTime.Now.Year;\n",
    "employeesDf.Columns.[\"Age\"] <- employeesDf.Columns.GetPrimitiveColumn(\"Birthday\").Apply(fun (d: Nullable<DateTime>) -> if d.HasValue then currentYear - d.Value.Year |> Nullable else Nullable<int>())"
   ],
   "outputs": []
  },
  {
   "cell_type": "code",
   "execution_count": 1,
   "metadata": {},
   "source": [
    "#!fsharp\n",
    "employeesDf"
   ],
   "outputs": [
    {
     "output_type": "execute_result",
     "data": {
      "text/html": "<table><thead><th>Index</th><th>Id</th><th>Name</th><th>Birthday</th><th>Salary</th><th>Age</th></thead><tbody><tr><td><div class=\"dni-plaintext\">0</div></td><td><div class=\"dni-plaintext\">1</div></td><td><div class=\"dni-plaintext\">John</div></td><td><span>1990-04-23 00:00:00Z</span></td><td><div class=\"dni-plaintext\">20000</div></td><td><div class=\"dni-plaintext\">30</div></td></tr><tr><td><div class=\"dni-plaintext\">1</div></td><td><div class=\"dni-plaintext\">2</div></td><td><div class=\"dni-plaintext\">Ahmed</div></td><td><span>1982-05-04 00:00:00Z</span></td><td><div class=\"dni-plaintext\">30000</div></td><td><div class=\"dni-plaintext\">38</div></td></tr><tr><td><div class=\"dni-plaintext\">2</div></td><td><div class=\"dni-plaintext\">3</div></td><td><div class=\"dni-plaintext\">Sarah</div></td><td><span>1980-01-02 00:00:00Z</span></td><td><div class=\"dni-plaintext\">40000</div></td><td><div class=\"dni-plaintext\">40</div></td></tr><tr><td><div class=\"dni-plaintext\">3</div></td><td><div class=\"dni-plaintext\">4</div></td><td><div class=\"dni-plaintext\">Elif</div></td><td><span>1994-10-09 00:00:00Z</span></td><td><div class=\"dni-plaintext\">15000</div></td><td><div class=\"dni-plaintext\">26</div></td></tr></tbody></table>"
     },
     "execution_count": 1,
     "metadata": {}
    }
   ]
  },
  {
   "cell_type": "code",
   "execution_count": 1,
   "metadata": {},
   "source": [
    "#!fsharp\n",
    "let minSalary = employeesDf.Columns.GetPrimitiveColumn<int>(\"Salary\").Min() :?> int\n",
    "let maxSalary = employeesDf.Columns.GetPrimitiveColumn<int>(\"Salary\").Max() :?> int\n",
    "\n",
    "employeesDf.Columns.[\"NormalizedSalary\"] <- (employeesDf.Columns.GetPrimitiveColumn<int>(\"Salary\") - minSalary) / (float (maxSalary - minSalary))"
   ],
   "outputs": []
  },
  {
   "cell_type": "code",
   "execution_count": 1,
   "metadata": {},
   "source": [
    "#!fsharp\n",
    "employeesDf"
   ],
   "outputs": [
    {
     "output_type": "execute_result",
     "data": {
      "text/html": "<table><thead><th>Index</th><th>Id</th><th>Name</th><th>Birthday</th><th>Salary</th><th>Age</th><th>NormalizedSalary</th></thead><tbody><tr><td><div class=\"dni-plaintext\">0</div></td><td><div class=\"dni-plaintext\">1</div></td><td><div class=\"dni-plaintext\">John</div></td><td><span>1990-04-23 00:00:00Z</span></td><td><div class=\"dni-plaintext\">20000</div></td><td><div class=\"dni-plaintext\">30</div></td><td><div class=\"dni-plaintext\">0.2</div></td></tr><tr><td><div class=\"dni-plaintext\">1</div></td><td><div class=\"dni-plaintext\">2</div></td><td><div class=\"dni-plaintext\">Ahmed</div></td><td><span>1982-05-04 00:00:00Z</span></td><td><div class=\"dni-plaintext\">30000</div></td><td><div class=\"dni-plaintext\">38</div></td><td><div class=\"dni-plaintext\">0.6</div></td></tr><tr><td><div class=\"dni-plaintext\">2</div></td><td><div class=\"dni-plaintext\">3</div></td><td><div class=\"dni-plaintext\">Sarah</div></td><td><span>1980-01-02 00:00:00Z</span></td><td><div class=\"dni-plaintext\">40000</div></td><td><div class=\"dni-plaintext\">40</div></td><td><div class=\"dni-plaintext\">1</div></td></tr><tr><td><div class=\"dni-plaintext\">3</div></td><td><div class=\"dni-plaintext\">4</div></td><td><div class=\"dni-plaintext\">Elif</div></td><td><span>1994-10-09 00:00:00Z</span></td><td><div class=\"dni-plaintext\">15000</div></td><td><div class=\"dni-plaintext\">26</div></td><td><div class=\"dni-plaintext\">0</div></td></tr></tbody></table>"
     },
     "execution_count": 1,
     "metadata": {}
    }
   ]
  },
  {
   "cell_type": "code",
   "execution_count": 1,
   "metadata": {},
   "source": [
    "#!fsharp\n",
    "let df = employeesDf.Merge<int>(departmentsDf, \"Id\", \"EmployeeId\", joinAlgorithm = JoinAlgorithm.Inner)\n",
    "df"
   ],
   "outputs": [
    {
     "output_type": "execute_result",
     "data": {
      "text/html": "<table><thead><th>Index</th><th>Id</th><th>Name</th><th>Birthday</th><th>Salary</th><th>Age</th><th>NormalizedSalary</th><th>EmployeeId</th><th>Department</th></thead><tbody><tr><td><div class=\"dni-plaintext\">0</div></td><td><div class=\"dni-plaintext\">3</div></td><td><div class=\"dni-plaintext\">Sarah</div></td><td><span>1980-01-02 00:00:00Z</span></td><td><div class=\"dni-plaintext\">40000</div></td><td><div class=\"dni-plaintext\">40</div></td><td><div class=\"dni-plaintext\">1</div></td><td><div class=\"dni-plaintext\">3</div></td><td><div class=\"dni-plaintext\">HR</div></td></tr><tr><td><div class=\"dni-plaintext\">1</div></td><td><div class=\"dni-plaintext\">1</div></td><td><div class=\"dni-plaintext\">John</div></td><td><span>1990-04-23 00:00:00Z</span></td><td><div class=\"dni-plaintext\">20000</div></td><td><div class=\"dni-plaintext\">30</div></td><td><div class=\"dni-plaintext\">0.2</div></td><td><div class=\"dni-plaintext\">1</div></td><td><div class=\"dni-plaintext\">Development</div></td></tr><tr><td><div class=\"dni-plaintext\">2</div></td><td><div class=\"dni-plaintext\">2</div></td><td><div class=\"dni-plaintext\">Ahmed</div></td><td><span>1982-05-04 00:00:00Z</span></td><td><div class=\"dni-plaintext\">30000</div></td><td><div class=\"dni-plaintext\">38</div></td><td><div class=\"dni-plaintext\">0.6</div></td><td><div class=\"dni-plaintext\">2</div></td><td><div class=\"dni-plaintext\">Development</div></td></tr><tr><td><div class=\"dni-plaintext\">3</div></td><td><div class=\"dni-plaintext\">4</div></td><td><div class=\"dni-plaintext\">Elif</div></td><td><span>1994-10-09 00:00:00Z</span></td><td><div class=\"dni-plaintext\">15000</div></td><td><div class=\"dni-plaintext\">26</div></td><td><div class=\"dni-plaintext\">0</div></td><td><div class=\"dni-plaintext\">4</div></td><td><div class=\"dni-plaintext\">Other</div></td></tr></tbody></table>"
     },
     "execution_count": 1,
     "metadata": {}
    }
   ]
  },
  {
   "cell_type": "code",
   "execution_count": 1,
   "metadata": {},
   "source": [
    "#!fsharp\n",
    "df.Columns.Remove(\"EmployeeId\")\n",
    "let df = df.OrderBy(\"Id\")\n",
    "\n",
    "df"
   ],
   "outputs": [
    {
     "output_type": "execute_result",
     "data": {
      "text/html": "<table><thead><th>Index</th><th>Id</th><th>Name</th><th>Birthday</th><th>Salary</th><th>Age</th><th>NormalizedSalary</th><th>Department</th></thead><tbody><tr><td><div class=\"dni-plaintext\">0</div></td><td><div class=\"dni-plaintext\">1</div></td><td><div class=\"dni-plaintext\">John</div></td><td><span>1990-04-23 00:00:00Z</span></td><td><div class=\"dni-plaintext\">20000</div></td><td><div class=\"dni-plaintext\">30</div></td><td><div class=\"dni-plaintext\">0.2</div></td><td><div class=\"dni-plaintext\">Development</div></td></tr><tr><td><div class=\"dni-plaintext\">1</div></td><td><div class=\"dni-plaintext\">2</div></td><td><div class=\"dni-plaintext\">Ahmed</div></td><td><span>1982-05-04 00:00:00Z</span></td><td><div class=\"dni-plaintext\">30000</div></td><td><div class=\"dni-plaintext\">38</div></td><td><div class=\"dni-plaintext\">0.6</div></td><td><div class=\"dni-plaintext\">Development</div></td></tr><tr><td><div class=\"dni-plaintext\">2</div></td><td><div class=\"dni-plaintext\">3</div></td><td><div class=\"dni-plaintext\">Sarah</div></td><td><span>1980-01-02 00:00:00Z</span></td><td><div class=\"dni-plaintext\">40000</div></td><td><div class=\"dni-plaintext\">40</div></td><td><div class=\"dni-plaintext\">1</div></td><td><div class=\"dni-plaintext\">HR</div></td></tr><tr><td><div class=\"dni-plaintext\">3</div></td><td><div class=\"dni-plaintext\">4</div></td><td><div class=\"dni-plaintext\">Elif</div></td><td><span>1994-10-09 00:00:00Z</span></td><td><div class=\"dni-plaintext\">15000</div></td><td><div class=\"dni-plaintext\">26</div></td><td><div class=\"dni-plaintext\">0</div></td><td><div class=\"dni-plaintext\">Other</div></td></tr></tbody></table>"
     },
     "execution_count": 1,
     "metadata": {}
    }
   ]
  },
  {
   "cell_type": "code",
   "execution_count": 1,
   "metadata": {},
   "source": [
    "#!fsharp\n",
    "let byDepartment = df.GroupBy(\"Department\")\n",
    "byDepartment.Mean(\"Salary\")"
   ],
   "outputs": [
    {
     "output_type": "execute_result",
     "data": {
      "text/html": "<table><thead><th>Index</th><th>Department</th><th>Salary</th></thead><tbody><tr><td><div class=\"dni-plaintext\">0</div></td><td><div class=\"dni-plaintext\">Development</div></td><td><div class=\"dni-plaintext\">25000</div></td></tr><tr><td><div class=\"dni-plaintext\">1</div></td><td><div class=\"dni-plaintext\">HR</div></td><td><div class=\"dni-plaintext\">40000</div></td></tr><tr><td><div class=\"dni-plaintext\">2</div></td><td><div class=\"dni-plaintext\">Other</div></td><td><div class=\"dni-plaintext\">15000</div></td></tr></tbody></table>"
     },
     "execution_count": 1,
     "metadata": {}
    }
   ]
  }
 ],
 "metadata": {
  "kernelspec": {
   "display_name": ".NET (C#)",
   "language": "C#",
   "name": ".net-csharp"
  },
  "language_info": {
   "file_extension": ".cs",
   "mimetype": "text/x-csharp",
   "name": "C#",
   "pygments_lexer": "csharp",
   "version": "8.0"
  }
 },
 "nbformat": 4,
 "nbformat_minor": 4
}