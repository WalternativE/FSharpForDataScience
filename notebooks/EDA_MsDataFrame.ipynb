{
 "cells": [
  {
   "cell_type": "code",
   "execution_count": 1,
   "metadata": {},
   "source": [
    "#!fsharp\n",
    "#r \"nuget: Microsoft.Data.Analysis, 0.4.0\"\n",
    "#r \"nuget: Deedle\"\n",
    "#r \"nuget: Plotly.NET, 2.0.0-alpha3\"\n",
    "\n",
    "#i \"/home/gregor/source/repos/FSharpForDataScience/_libs\"\n",
    "#r \"nuget: Dotnet.Interactive.Extension.Plotly.Net, 0.1.0-dev5\""
   ],
   "outputs": [
    {
     "output_type": "execute_result",
     "data": {
      "text/html": "<div><strong>Restore sources</strong><ul><li><span>https://pkgs.dev.azure.com/dnceng/public/_packaging/dotnet-tools/nuget/v3/index.json</span></li><li><span>/home/gregor/source/repos/FSharpForDataScience/_libs</span></li></ul></div>"
     },
     "execution_count": 1,
     "metadata": {}
    },
    {
     "output_type": "execute_result",
     "data": {
      "text/plain": "Installed package Microsoft.Data.Analysis version 0.4.0"
     },
     "execution_count": 1,
     "metadata": {}
    },
    {
     "output_type": "execute_result",
     "data": {
      "text/plain": "Installed package Deedle version 2.3.0"
     },
     "execution_count": 1,
     "metadata": {}
    },
    {
     "output_type": "execute_result",
     "data": {
      "text/plain": "Installed package Dotnet.Interactive.Extension.Plotly.Net version 0.1.0-dev5"
     },
     "execution_count": 1,
     "metadata": {}
    },
    {
     "output_type": "execute_result",
     "data": {
      "text/plain": "Installed package Plotly.NET version 2.0.0-alpha3"
     },
     "execution_count": 1,
     "metadata": {}
    },
    {
     "output_type": "execute_result",
     "data": {
      "text/plain": "Loaded Dotnet.Interactive.Extension.Plotly.Net.PlotlyNetFormatterKernelExtension"
     },
     "execution_count": 1,
     "metadata": {}
    },
    {
     "output_type": "execute_result",
     "data": {
      "text/markdown": "Added PlotlyNetFormatterKernelExtension including formatters for GenericChart"
     },
     "execution_count": 1,
     "metadata": {}
    }
   ]
  },
  {
   "cell_type": "code",
   "execution_count": 1,
   "metadata": {},
   "source": [
    "#!fsharp\n",
    "open System\n",
    "open Microsoft.Data.Analysis\n",
    "open Microsoft.ML\n",
    "open Microsoft.DotNet.Interactive.FSharp.FSharpKernelHelpers.DisplayFunctions\n",
    "open Plotly.NET"
   ],
   "outputs": []
  },
  {
   "cell_type": "code",
   "execution_count": 1,
   "metadata": {},
   "source": [
    "#!fsharp\n",
    "let data =\n",
    "    DataFrame.LoadCsv(\n",
    "        \"/home/gregor/source/repos/FSharpForDataScience/datasets/nycflights13/weather.csv\",\n",
    "        ',',\n",
    "        true,\n",
    "        [| \"origin\"; \"year\"; \"month\"; \"day\"; \"hour\"; \"temp\"; \"dewp\"; \"humid\"; \"wind_dir\"; \"wind_speed\"; \"wind_gust\"; \"precip\"; \"pressure\"; \"visib\"; \"time_hour\" |],\n",
    "        [| typeof<String>; typeof<Int32>; typeof<Int32>; typeof<Int32>; typeof<Int32>; typeof<Double>; typeof<Double>; typeof<Double>; typeof<Double>; typeof<Double>; typeof<Double>; typeof<Int32>; typeof<Double>; typeof<Int32>; typeof<String> |])"
   ],
   "outputs": [
    {
     "output_type": "error",
     "ename": "Error",
     "evalue": "System.FormatException: Input string was not in a correct format.\n   at System.Number.ThrowOverflowOrFormatException(ParsingStatus status, TypeCode type)\n   at System.String.System.IConvertible.ToDouble(IFormatProvider provider)\n   at System.Convert.ChangeType(Object value, Type conversionType, IFormatProvider provider)\n   at Microsoft.Data.Analysis.DataFrame.Append(IEnumerable`1 row, Boolean inPlace)\n   at Microsoft.Data.Analysis.DataFrame.LoadCsv(Stream csvStream, Char separator, Boolean header, String[] columnNames, Type[] dataTypes, Int64 numberOfRowsToRead, Int32 guessRows, Boolean addIndexColumn, Encoding encoding)\n   at Microsoft.Data.Analysis.DataFrame.LoadCsv(String filename, Char separator, Boolean header, String[] columnNames, Type[] dataTypes, Int32 numRows, Int32 guessRows, Boolean addIndexColumn, Encoding encoding)\n   at <StartupCode$FSI_0017>.$FSI_0017.main@()",
     "traceback": []
    }
   ]
  }
 ],
 "metadata": {
  "kernelspec": {
   "display_name": ".NET (C#)",
   "language": "C#",
   "name": ".net-csharp"
  },
  "language_info": {
   "file_extension": ".cs",
   "mimetype": "text/x-csharp",
   "name": "C#",
   "pygments_lexer": "csharp",
   "version": "8.0"
  }
 },
 "nbformat": 4,
 "nbformat_minor": 4
}